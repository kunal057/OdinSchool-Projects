{
 "cells": [
  {
   "cell_type": "markdown",
   "id": "a1c2a877",
   "metadata": {},
   "source": [
    "# Institute - ODIN SCHOOL"
   ]
  },
  {
   "cell_type": "markdown",
   "id": "80a47ec2",
   "metadata": {},
   "source": [
    "# Project : Credit Card Approval Prediction\n",
    "# Submitted by Y KUNAL RAO\n",
    "### Student ID - S5512"
   ]
  },
  {
   "cell_type": "markdown",
   "id": "a987553d",
   "metadata": {},
   "source": [
    "### Objectives of the project :\n",
    "- The objective of credit card approval prediction is to develop a machine learning model that accurately assesses the creditworthiness of applicants based on historical data. By analyzing factors such as income, credit history, and debt, the model aims to predict whether an individual is likely to default on credit card payments. This predictive capability helps financial institutions make informed decisions, minimizing the risk of defaults and optimizing the approval process. Ultimately, the goal is to enhance efficiency in credit card approval, mitigate financial risks, and provide fair and objective evaluations of applicants to foster responsible lending practices."
   ]
  },
  {
   "cell_type": "markdown",
   "id": "541489e4",
   "metadata": {},
   "source": [
    "### Section - 1"
   ]
  },
  {
   "cell_type": "markdown",
   "id": "255276fd",
   "metadata": {},
   "source": [
    "#### 1) Why is your proposal important in today’s world? How predicting a good client is worthy for a bank? \n",
    "- Predicting a good client for credit card approval is essential for banks to manage risk and enhance profitability in the face of increasing applications and credit card fraud concerns. Utilizing data analytics and machine learning, banks analyze diverse factors like income, employment, credit history, and spending to make informed decisions on approvals and interest rates. This process not only mitigates the risk of default and fraud but also enables targeted marketing for responsible credit card usage, ensuring financial stability and customer satisfaction. \n",
    "- In summary, predicting a good client is vital for banks to maintain profitability, minimize risk, and provide optimal service to customers in today's dynamic financial landscape.\n",
    "#### 2) How is it going to impact the banking sector?\n",
    "- Automating the credit approval process enhances efficiency, reduces costs, and minimizes risk for banks. Data-driven algorithms assess credit risk, reducing the likelihood of default and financial losses. Faster and more accurate credit decisions improve customer satisfaction and overall experience. Analyzing customer data enables targeted marketing, allowing banks to identify and reach potential customers with tailored campaigns, further optimizing their operations and fostering financial stability.\n",
    "#### 3) If any, what is the gap in the knowledge or how your proposed method can be helpful if required in future for any bank in India.\n",
    "- Machine Learning (ML) analyzes extensive data, including credit scores, income, and employment history, to identify patterns affecting credit card approval. ML's Data Visualization reveals correlations, enabling accurate decision-making. Predictive models, trained on historical data, forecast approval likelihood based on individual profiles. ML continuously monitors applications, identifying potential fraud or risk trends. This aids banks in proactive fraud prevention and accurate credit approval predictions, enhancing overall data analysis, predictive modeling, and fraud detection capabilities for improved customer protection and reliable decision-making in India.\n"
   ]
  },
  {
   "cell_type": "markdown",
   "id": "7d8dd246",
   "metadata": {},
   "source": [
    "### Section 2: Initial Hypothesis (or hypotheses)\n",
    "\n",
    "#### Que 1 ) Here you have to make some assumptions based on the questions you want to address based on the DA track or ML track. \n",
    "\n",
    "#### (A) If DA track please aim to identify patterns in the data and important features that may impact a ML model.\n",
    "   #### Assumption :\n",
    "- The dataset contains information related to credit card applications, including applicant demographics, financial information, and application details.\n",
    "- The goal is to perform data analysis to understand the dataset's characteristics and relationships among variables before building a predictive model.\n",
    "\n",
    "#### Data Analysis and Feature Identification:\n",
    "- There are some important features that may impact our ML model. Those are Propert_Owner, Annual_income, Type_Income, Housing_type, Employed_days, and Family_Members .\n",
    "\n",
    "#### (B) If ML track please perform part ‘i’ as well as multiple machine learning models, perform all required steps to check if there is any assumption and justify your model. Why is your model better than any other possible model? Please justify it by relevant cost functions and if possible by any graph.\n",
    "\n",
    "- It is a Classification problem so, we can’t use the Linear Regression model to predict the output.Classification problem having the value ‘yes’ and ‘no’ or ‘0’ and ‘1’. If we use the Linear regression model we can’t reach the accuracy level. So, for a Classification problem, we can use Logistic Regression or any tree-based model such as a Decision Tree or Random Forest.\n",
    "- We may need to Tuning the ML models for more accurate results. Here we are going to use Logistic Regression, a Decision Tree, and Random Forest,KNeighborsClassifier, ML models and at the end, we will compare them to find the best ML model for this problem."
   ]
  },
  {
   "cell_type": "markdown",
   "id": "2ca9ed6f",
   "metadata": {},
   "source": [
    "### Section 3 : Data Analysis Approach"
   ]
  },
  {
   "cell_type": "markdown",
   "id": "611eb67e",
   "metadata": {},
   "source": [
    "#### 1. What approach are you going to take in order to prove or disprove your hypothesis?\n",
    "- Data Exploration: Begin by loading and exploring the dataset. Check the structure, data types, and summary statistics for each variable. There are two CSV files,\n",
    "- Credit_card.csv contains: Ind_ID, GENDER, Car_Owner, Propert_Owner, CHILDREN, Annual_income, Type_Income, EDUCATION, Marital_status, Housing_type, Birthday_count, Employed_days, Mobile_phone, Work_Phone, Phone, EMAIL_ID, Type_Occupation, and Family_Members\n",
    "- Credit_card_label.csv contains: Ind_ID, and label\n",
    "- To perform further analysis these two csv files must merge."
   ]
  },
  {
   "cell_type": "markdown",
   "id": "49a42944",
   "metadata": {},
   "source": [
    "#### 2. What feature engineering techniques will be relevant to your project? \n",
    "#### 3. Please justify your data analysis approach.\n",
    "#### 4. Identify important patterns in your data using the EDA approach to justify your findings.\n",
    "#### Data Cleaning: Address missing values, duplicates, and outliers. Cleaning the data ensures that subsequent analysis is based on reliable information.\n",
    "- Filling NaN values: After a quick view of the merged dataset, it is found that there are 1548 entries and 19 columns. Replacing all NaN values from The ‘GENDER’, ‘Annual_income’, and ‘Birthday_count’ columns.\n",
    "- Deleting column: The ‘Type_Occupation’ column has more than 30% NaN values. If we replace all the NaN values in this column then the predicted values will be incorrect. So, deleting the whole column is the best move. Also, this column is not very important for the ML model.\n",
    "- Finding the Outliers: Using the ‘describe()’ function we can take a look at all the data and understand if there are any Outliers present or not. . After the analysis, we found some Outliers in the ‘Employed_days’, and ‘Annual_income’ columns. Those Outliers are removed using IQR"
   ]
  },
  {
   "cell_type": "markdown",
   "id": "075c8954",
   "metadata": {},
   "source": [
    "### Section 4 : Machine Learning Approach"
   ]
  },
  {
   "cell_type": "markdown",
   "id": "39c0b2b4",
   "metadata": {},
   "source": [
    "#### 1. What method will you use for machine learning based predictions for credit card approval?\n",
    "- Model Selection: I have Choosen multiple machine learning algorithms suitable for binary classification tasks like logistic regression, KNeighborsClassifier, DecisionTreeClassifier and random forest."
   ]
  },
  {
   "cell_type": "code",
   "execution_count": null,
   "id": "0cd76141",
   "metadata": {},
   "outputs": [],
   "source": []
  },
  {
   "cell_type": "markdown",
   "id": "200ddc83",
   "metadata": {},
   "source": [
    "#### Importing required libaries :"
   ]
  },
  {
   "cell_type": "code",
   "execution_count": 1,
   "id": "7fe41dd6",
   "metadata": {},
   "outputs": [],
   "source": [
    "### For Data Analysis and Mathamatical Function \n",
    "import numpy as np \n",
    "import pandas as pd\n",
    "### For Data Visualization \n",
    "import matplotlib.pyplot as plt\n",
    "import seaborn as sns\n",
    "import scipy.stats as stats\n",
    "### Removing the Warning \n",
    "import warnings \n",
    "warnings.filterwarnings('ignore') \n",
    "### for spliting the data using the below lib \n",
    "from sklearn.model_selection import cross_val_score \n",
    "### for Data Encoding \n",
    "from sklearn.preprocessing import LabelEncoder,OneHotEncoder"
   ]
  },
  {
   "cell_type": "markdown",
   "id": "1894c174",
   "metadata": {},
   "source": [
    "#### Importing the models :"
   ]
  },
  {
   "cell_type": "code",
   "execution_count": 2,
   "id": "8b0a9905",
   "metadata": {},
   "outputs": [],
   "source": [
    "### Machine Learning models Libraries: \n",
    "from sklearn.tree import DecisionTreeClassifier \n",
    "from sklearn.neighbors import KNeighborsClassifier \n",
    "from sklearn.model_selection import KFold,cross_val_score \n",
    "from sklearn.ensemble import RandomForestClassifier \n",
    "from sklearn.linear_model import LogisticRegression"
   ]
  },
  {
   "cell_type": "markdown",
   "id": "5f78383e",
   "metadata": {},
   "source": [
    "#### Importing the dataset :"
   ]
  },
  {
   "cell_type": "code",
   "execution_count": 3,
   "id": "d55a26b6",
   "metadata": {},
   "outputs": [],
   "source": [
    "data1 = pd.read_csv(r\"C:\\Users\\shrut\\Downloads\\Capstone+Project+1\\Credit_card.csv\")\n",
    "data2 = pd.read_csv(r\"C:\\Users\\shrut\\Downloads\\Capstone+Project+1\\Credit_card_label.csv\")  \n",
    "\n",
    "### Merging the file\n",
    "df = data1.merge(data2,how = \"inner\", on=[\"Ind_ID\"])\n",
    "\n",
    "### For SQL File\n",
    "df_sql = df.copy()"
   ]
  },
  {
   "cell_type": "markdown",
   "id": "9da985f9",
   "metadata": {},
   "source": [
    "# Part 1 : Data Exploration (Exploratory Data Analysis)"
   ]
  },
  {
   "cell_type": "code",
   "execution_count": 4,
   "id": "e3b1bac5",
   "metadata": {
    "scrolled": true
   },
   "outputs": [
    {
     "data": {
      "text/html": [
       "<div>\n",
       "<style scoped>\n",
       "    .dataframe tbody tr th:only-of-type {\n",
       "        vertical-align: middle;\n",
       "    }\n",
       "\n",
       "    .dataframe tbody tr th {\n",
       "        vertical-align: top;\n",
       "    }\n",
       "\n",
       "    .dataframe thead th {\n",
       "        text-align: right;\n",
       "    }\n",
       "</style>\n",
       "<table border=\"1\" class=\"dataframe\">\n",
       "  <thead>\n",
       "    <tr style=\"text-align: right;\">\n",
       "      <th></th>\n",
       "      <th>Ind_ID</th>\n",
       "      <th>GENDER</th>\n",
       "      <th>Car_Owner</th>\n",
       "      <th>Propert_Owner</th>\n",
       "      <th>CHILDREN</th>\n",
       "      <th>Annual_income</th>\n",
       "      <th>Type_Income</th>\n",
       "      <th>EDUCATION</th>\n",
       "      <th>Marital_status</th>\n",
       "      <th>Housing_type</th>\n",
       "      <th>Birthday_count</th>\n",
       "      <th>Employed_days</th>\n",
       "      <th>Mobile_phone</th>\n",
       "      <th>Work_Phone</th>\n",
       "      <th>Phone</th>\n",
       "      <th>EMAIL_ID</th>\n",
       "      <th>Type_Occupation</th>\n",
       "      <th>Family_Members</th>\n",
       "      <th>label</th>\n",
       "    </tr>\n",
       "  </thead>\n",
       "  <tbody>\n",
       "    <tr>\n",
       "      <th>0</th>\n",
       "      <td>5008827</td>\n",
       "      <td>M</td>\n",
       "      <td>Y</td>\n",
       "      <td>Y</td>\n",
       "      <td>0</td>\n",
       "      <td>180000.0</td>\n",
       "      <td>Pensioner</td>\n",
       "      <td>Higher education</td>\n",
       "      <td>Married</td>\n",
       "      <td>House / apartment</td>\n",
       "      <td>-18772.0</td>\n",
       "      <td>365243</td>\n",
       "      <td>1</td>\n",
       "      <td>0</td>\n",
       "      <td>0</td>\n",
       "      <td>0</td>\n",
       "      <td>NaN</td>\n",
       "      <td>2</td>\n",
       "      <td>1</td>\n",
       "    </tr>\n",
       "    <tr>\n",
       "      <th>1</th>\n",
       "      <td>5009744</td>\n",
       "      <td>F</td>\n",
       "      <td>Y</td>\n",
       "      <td>N</td>\n",
       "      <td>0</td>\n",
       "      <td>315000.0</td>\n",
       "      <td>Commercial associate</td>\n",
       "      <td>Higher education</td>\n",
       "      <td>Married</td>\n",
       "      <td>House / apartment</td>\n",
       "      <td>-13557.0</td>\n",
       "      <td>-586</td>\n",
       "      <td>1</td>\n",
       "      <td>1</td>\n",
       "      <td>1</td>\n",
       "      <td>0</td>\n",
       "      <td>NaN</td>\n",
       "      <td>2</td>\n",
       "      <td>1</td>\n",
       "    </tr>\n",
       "    <tr>\n",
       "      <th>2</th>\n",
       "      <td>5009746</td>\n",
       "      <td>F</td>\n",
       "      <td>Y</td>\n",
       "      <td>N</td>\n",
       "      <td>0</td>\n",
       "      <td>315000.0</td>\n",
       "      <td>Commercial associate</td>\n",
       "      <td>Higher education</td>\n",
       "      <td>Married</td>\n",
       "      <td>House / apartment</td>\n",
       "      <td>NaN</td>\n",
       "      <td>-586</td>\n",
       "      <td>1</td>\n",
       "      <td>1</td>\n",
       "      <td>1</td>\n",
       "      <td>0</td>\n",
       "      <td>NaN</td>\n",
       "      <td>2</td>\n",
       "      <td>1</td>\n",
       "    </tr>\n",
       "    <tr>\n",
       "      <th>3</th>\n",
       "      <td>5009749</td>\n",
       "      <td>F</td>\n",
       "      <td>Y</td>\n",
       "      <td>N</td>\n",
       "      <td>0</td>\n",
       "      <td>NaN</td>\n",
       "      <td>Commercial associate</td>\n",
       "      <td>Higher education</td>\n",
       "      <td>Married</td>\n",
       "      <td>House / apartment</td>\n",
       "      <td>-13557.0</td>\n",
       "      <td>-586</td>\n",
       "      <td>1</td>\n",
       "      <td>1</td>\n",
       "      <td>1</td>\n",
       "      <td>0</td>\n",
       "      <td>NaN</td>\n",
       "      <td>2</td>\n",
       "      <td>1</td>\n",
       "    </tr>\n",
       "    <tr>\n",
       "      <th>4</th>\n",
       "      <td>5009752</td>\n",
       "      <td>F</td>\n",
       "      <td>Y</td>\n",
       "      <td>N</td>\n",
       "      <td>0</td>\n",
       "      <td>315000.0</td>\n",
       "      <td>Commercial associate</td>\n",
       "      <td>Higher education</td>\n",
       "      <td>Married</td>\n",
       "      <td>House / apartment</td>\n",
       "      <td>-13557.0</td>\n",
       "      <td>-586</td>\n",
       "      <td>1</td>\n",
       "      <td>1</td>\n",
       "      <td>1</td>\n",
       "      <td>0</td>\n",
       "      <td>NaN</td>\n",
       "      <td>2</td>\n",
       "      <td>1</td>\n",
       "    </tr>\n",
       "  </tbody>\n",
       "</table>\n",
       "</div>"
      ],
      "text/plain": [
       "    Ind_ID GENDER Car_Owner Propert_Owner  CHILDREN  Annual_income  \\\n",
       "0  5008827      M         Y             Y         0       180000.0   \n",
       "1  5009744      F         Y             N         0       315000.0   \n",
       "2  5009746      F         Y             N         0       315000.0   \n",
       "3  5009749      F         Y             N         0            NaN   \n",
       "4  5009752      F         Y             N         0       315000.0   \n",
       "\n",
       "            Type_Income         EDUCATION Marital_status       Housing_type  \\\n",
       "0             Pensioner  Higher education        Married  House / apartment   \n",
       "1  Commercial associate  Higher education        Married  House / apartment   \n",
       "2  Commercial associate  Higher education        Married  House / apartment   \n",
       "3  Commercial associate  Higher education        Married  House / apartment   \n",
       "4  Commercial associate  Higher education        Married  House / apartment   \n",
       "\n",
       "   Birthday_count  Employed_days  Mobile_phone  Work_Phone  Phone  EMAIL_ID  \\\n",
       "0        -18772.0         365243             1           0      0         0   \n",
       "1        -13557.0           -586             1           1      1         0   \n",
       "2             NaN           -586             1           1      1         0   \n",
       "3        -13557.0           -586             1           1      1         0   \n",
       "4        -13557.0           -586             1           1      1         0   \n",
       "\n",
       "  Type_Occupation  Family_Members  label  \n",
       "0             NaN               2      1  \n",
       "1             NaN               2      1  \n",
       "2             NaN               2      1  \n",
       "3             NaN               2      1  \n",
       "4             NaN               2      1  "
      ]
     },
     "execution_count": 4,
     "metadata": {},
     "output_type": "execute_result"
    }
   ],
   "source": [
    "# Lets check top 5 rows of our DataFrame\n",
    "df.head()"
   ]
  },
  {
   "cell_type": "code",
   "execution_count": 5,
   "id": "cd9dbc6b",
   "metadata": {},
   "outputs": [
    {
     "data": {
      "text/html": [
       "<div>\n",
       "<style scoped>\n",
       "    .dataframe tbody tr th:only-of-type {\n",
       "        vertical-align: middle;\n",
       "    }\n",
       "\n",
       "    .dataframe tbody tr th {\n",
       "        vertical-align: top;\n",
       "    }\n",
       "\n",
       "    .dataframe thead th {\n",
       "        text-align: right;\n",
       "    }\n",
       "</style>\n",
       "<table border=\"1\" class=\"dataframe\">\n",
       "  <thead>\n",
       "    <tr style=\"text-align: right;\">\n",
       "      <th></th>\n",
       "      <th>Ind_ID</th>\n",
       "      <th>GENDER</th>\n",
       "      <th>Car_Owner</th>\n",
       "      <th>Propert_Owner</th>\n",
       "      <th>CHILDREN</th>\n",
       "      <th>Annual_income</th>\n",
       "      <th>Type_Income</th>\n",
       "      <th>EDUCATION</th>\n",
       "      <th>Marital_status</th>\n",
       "      <th>Housing_type</th>\n",
       "      <th>Birthday_count</th>\n",
       "      <th>Employed_days</th>\n",
       "      <th>Mobile_phone</th>\n",
       "      <th>Work_Phone</th>\n",
       "      <th>Phone</th>\n",
       "      <th>EMAIL_ID</th>\n",
       "      <th>Type_Occupation</th>\n",
       "      <th>Family_Members</th>\n",
       "      <th>label</th>\n",
       "    </tr>\n",
       "  </thead>\n",
       "  <tbody>\n",
       "    <tr>\n",
       "      <th>1543</th>\n",
       "      <td>5028645</td>\n",
       "      <td>F</td>\n",
       "      <td>N</td>\n",
       "      <td>Y</td>\n",
       "      <td>0</td>\n",
       "      <td>NaN</td>\n",
       "      <td>Commercial associate</td>\n",
       "      <td>Higher education</td>\n",
       "      <td>Married</td>\n",
       "      <td>House / apartment</td>\n",
       "      <td>-11957.0</td>\n",
       "      <td>-2182</td>\n",
       "      <td>1</td>\n",
       "      <td>0</td>\n",
       "      <td>0</td>\n",
       "      <td>0</td>\n",
       "      <td>Managers</td>\n",
       "      <td>2</td>\n",
       "      <td>0</td>\n",
       "    </tr>\n",
       "    <tr>\n",
       "      <th>1544</th>\n",
       "      <td>5023655</td>\n",
       "      <td>F</td>\n",
       "      <td>N</td>\n",
       "      <td>N</td>\n",
       "      <td>0</td>\n",
       "      <td>225000.0</td>\n",
       "      <td>Commercial associate</td>\n",
       "      <td>Incomplete higher</td>\n",
       "      <td>Single / not married</td>\n",
       "      <td>House / apartment</td>\n",
       "      <td>-10229.0</td>\n",
       "      <td>-1209</td>\n",
       "      <td>1</td>\n",
       "      <td>0</td>\n",
       "      <td>0</td>\n",
       "      <td>0</td>\n",
       "      <td>Accountants</td>\n",
       "      <td>1</td>\n",
       "      <td>0</td>\n",
       "    </tr>\n",
       "    <tr>\n",
       "      <th>1545</th>\n",
       "      <td>5115992</td>\n",
       "      <td>M</td>\n",
       "      <td>Y</td>\n",
       "      <td>Y</td>\n",
       "      <td>2</td>\n",
       "      <td>180000.0</td>\n",
       "      <td>Working</td>\n",
       "      <td>Higher education</td>\n",
       "      <td>Married</td>\n",
       "      <td>House / apartment</td>\n",
       "      <td>-13174.0</td>\n",
       "      <td>-2477</td>\n",
       "      <td>1</td>\n",
       "      <td>0</td>\n",
       "      <td>0</td>\n",
       "      <td>0</td>\n",
       "      <td>Managers</td>\n",
       "      <td>4</td>\n",
       "      <td>0</td>\n",
       "    </tr>\n",
       "    <tr>\n",
       "      <th>1546</th>\n",
       "      <td>5118219</td>\n",
       "      <td>M</td>\n",
       "      <td>Y</td>\n",
       "      <td>N</td>\n",
       "      <td>0</td>\n",
       "      <td>270000.0</td>\n",
       "      <td>Working</td>\n",
       "      <td>Secondary / secondary special</td>\n",
       "      <td>Civil marriage</td>\n",
       "      <td>House / apartment</td>\n",
       "      <td>-15292.0</td>\n",
       "      <td>-645</td>\n",
       "      <td>1</td>\n",
       "      <td>1</td>\n",
       "      <td>1</td>\n",
       "      <td>0</td>\n",
       "      <td>Drivers</td>\n",
       "      <td>2</td>\n",
       "      <td>0</td>\n",
       "    </tr>\n",
       "    <tr>\n",
       "      <th>1547</th>\n",
       "      <td>5053790</td>\n",
       "      <td>F</td>\n",
       "      <td>Y</td>\n",
       "      <td>Y</td>\n",
       "      <td>0</td>\n",
       "      <td>225000.0</td>\n",
       "      <td>Working</td>\n",
       "      <td>Higher education</td>\n",
       "      <td>Married</td>\n",
       "      <td>House / apartment</td>\n",
       "      <td>-16601.0</td>\n",
       "      <td>-2859</td>\n",
       "      <td>1</td>\n",
       "      <td>0</td>\n",
       "      <td>0</td>\n",
       "      <td>0</td>\n",
       "      <td>NaN</td>\n",
       "      <td>2</td>\n",
       "      <td>0</td>\n",
       "    </tr>\n",
       "  </tbody>\n",
       "</table>\n",
       "</div>"
      ],
      "text/plain": [
       "       Ind_ID GENDER Car_Owner Propert_Owner  CHILDREN  Annual_income  \\\n",
       "1543  5028645      F         N             Y         0            NaN   \n",
       "1544  5023655      F         N             N         0       225000.0   \n",
       "1545  5115992      M         Y             Y         2       180000.0   \n",
       "1546  5118219      M         Y             N         0       270000.0   \n",
       "1547  5053790      F         Y             Y         0       225000.0   \n",
       "\n",
       "               Type_Income                      EDUCATION  \\\n",
       "1543  Commercial associate               Higher education   \n",
       "1544  Commercial associate              Incomplete higher   \n",
       "1545               Working               Higher education   \n",
       "1546               Working  Secondary / secondary special   \n",
       "1547               Working               Higher education   \n",
       "\n",
       "            Marital_status       Housing_type  Birthday_count  Employed_days  \\\n",
       "1543               Married  House / apartment        -11957.0          -2182   \n",
       "1544  Single / not married  House / apartment        -10229.0          -1209   \n",
       "1545               Married  House / apartment        -13174.0          -2477   \n",
       "1546        Civil marriage  House / apartment        -15292.0           -645   \n",
       "1547               Married  House / apartment        -16601.0          -2859   \n",
       "\n",
       "      Mobile_phone  Work_Phone  Phone  EMAIL_ID Type_Occupation  \\\n",
       "1543             1           0      0         0        Managers   \n",
       "1544             1           0      0         0     Accountants   \n",
       "1545             1           0      0         0        Managers   \n",
       "1546             1           1      1         0         Drivers   \n",
       "1547             1           0      0         0             NaN   \n",
       "\n",
       "      Family_Members  label  \n",
       "1543               2      0  \n",
       "1544               1      0  \n",
       "1545               4      0  \n",
       "1546               2      0  \n",
       "1547               2      0  "
      ]
     },
     "execution_count": 5,
     "metadata": {},
     "output_type": "execute_result"
    }
   ],
   "source": [
    "# Lets check bottom 5 rows of our DataFrame\n",
    "df.tail()"
   ]
  },
  {
   "cell_type": "code",
   "execution_count": 6,
   "id": "990aced4",
   "metadata": {},
   "outputs": [
    {
     "data": {
      "text/html": [
       "<div>\n",
       "<style scoped>\n",
       "    .dataframe tbody tr th:only-of-type {\n",
       "        vertical-align: middle;\n",
       "    }\n",
       "\n",
       "    .dataframe tbody tr th {\n",
       "        vertical-align: top;\n",
       "    }\n",
       "\n",
       "    .dataframe thead th {\n",
       "        text-align: right;\n",
       "    }\n",
       "</style>\n",
       "<table border=\"1\" class=\"dataframe\">\n",
       "  <thead>\n",
       "    <tr style=\"text-align: right;\">\n",
       "      <th></th>\n",
       "      <th>Ind_ID</th>\n",
       "      <th>CHILDREN</th>\n",
       "      <th>Annual_income</th>\n",
       "      <th>Birthday_count</th>\n",
       "      <th>Employed_days</th>\n",
       "      <th>Mobile_phone</th>\n",
       "      <th>Work_Phone</th>\n",
       "      <th>Phone</th>\n",
       "      <th>EMAIL_ID</th>\n",
       "      <th>Family_Members</th>\n",
       "      <th>label</th>\n",
       "    </tr>\n",
       "  </thead>\n",
       "  <tbody>\n",
       "    <tr>\n",
       "      <th>count</th>\n",
       "      <td>1.548000e+03</td>\n",
       "      <td>1548.000000</td>\n",
       "      <td>1.525000e+03</td>\n",
       "      <td>1526.000000</td>\n",
       "      <td>1548.000000</td>\n",
       "      <td>1548.0</td>\n",
       "      <td>1548.000000</td>\n",
       "      <td>1548.000000</td>\n",
       "      <td>1548.000000</td>\n",
       "      <td>1548.000000</td>\n",
       "      <td>1548.000000</td>\n",
       "    </tr>\n",
       "    <tr>\n",
       "      <th>mean</th>\n",
       "      <td>5.078920e+06</td>\n",
       "      <td>0.412791</td>\n",
       "      <td>1.913993e+05</td>\n",
       "      <td>-16040.342071</td>\n",
       "      <td>59364.689922</td>\n",
       "      <td>1.0</td>\n",
       "      <td>0.208010</td>\n",
       "      <td>0.309432</td>\n",
       "      <td>0.092377</td>\n",
       "      <td>2.161499</td>\n",
       "      <td>0.113049</td>\n",
       "    </tr>\n",
       "    <tr>\n",
       "      <th>std</th>\n",
       "      <td>4.171759e+04</td>\n",
       "      <td>0.776691</td>\n",
       "      <td>1.132530e+05</td>\n",
       "      <td>4229.503202</td>\n",
       "      <td>137808.062701</td>\n",
       "      <td>0.0</td>\n",
       "      <td>0.406015</td>\n",
       "      <td>0.462409</td>\n",
       "      <td>0.289651</td>\n",
       "      <td>0.947772</td>\n",
       "      <td>0.316755</td>\n",
       "    </tr>\n",
       "    <tr>\n",
       "      <th>min</th>\n",
       "      <td>5.008827e+06</td>\n",
       "      <td>0.000000</td>\n",
       "      <td>3.375000e+04</td>\n",
       "      <td>-24946.000000</td>\n",
       "      <td>-14887.000000</td>\n",
       "      <td>1.0</td>\n",
       "      <td>0.000000</td>\n",
       "      <td>0.000000</td>\n",
       "      <td>0.000000</td>\n",
       "      <td>1.000000</td>\n",
       "      <td>0.000000</td>\n",
       "    </tr>\n",
       "    <tr>\n",
       "      <th>25%</th>\n",
       "      <td>5.045070e+06</td>\n",
       "      <td>0.000000</td>\n",
       "      <td>1.215000e+05</td>\n",
       "      <td>-19553.000000</td>\n",
       "      <td>-3174.500000</td>\n",
       "      <td>1.0</td>\n",
       "      <td>0.000000</td>\n",
       "      <td>0.000000</td>\n",
       "      <td>0.000000</td>\n",
       "      <td>2.000000</td>\n",
       "      <td>0.000000</td>\n",
       "    </tr>\n",
       "    <tr>\n",
       "      <th>50%</th>\n",
       "      <td>5.078842e+06</td>\n",
       "      <td>0.000000</td>\n",
       "      <td>1.665000e+05</td>\n",
       "      <td>-15661.500000</td>\n",
       "      <td>-1565.000000</td>\n",
       "      <td>1.0</td>\n",
       "      <td>0.000000</td>\n",
       "      <td>0.000000</td>\n",
       "      <td>0.000000</td>\n",
       "      <td>2.000000</td>\n",
       "      <td>0.000000</td>\n",
       "    </tr>\n",
       "    <tr>\n",
       "      <th>75%</th>\n",
       "      <td>5.115673e+06</td>\n",
       "      <td>1.000000</td>\n",
       "      <td>2.250000e+05</td>\n",
       "      <td>-12417.000000</td>\n",
       "      <td>-431.750000</td>\n",
       "      <td>1.0</td>\n",
       "      <td>0.000000</td>\n",
       "      <td>1.000000</td>\n",
       "      <td>0.000000</td>\n",
       "      <td>3.000000</td>\n",
       "      <td>0.000000</td>\n",
       "    </tr>\n",
       "    <tr>\n",
       "      <th>max</th>\n",
       "      <td>5.150412e+06</td>\n",
       "      <td>14.000000</td>\n",
       "      <td>1.575000e+06</td>\n",
       "      <td>-7705.000000</td>\n",
       "      <td>365243.000000</td>\n",
       "      <td>1.0</td>\n",
       "      <td>1.000000</td>\n",
       "      <td>1.000000</td>\n",
       "      <td>1.000000</td>\n",
       "      <td>15.000000</td>\n",
       "      <td>1.000000</td>\n",
       "    </tr>\n",
       "  </tbody>\n",
       "</table>\n",
       "</div>"
      ],
      "text/plain": [
       "             Ind_ID     CHILDREN  Annual_income  Birthday_count  \\\n",
       "count  1.548000e+03  1548.000000   1.525000e+03     1526.000000   \n",
       "mean   5.078920e+06     0.412791   1.913993e+05   -16040.342071   \n",
       "std    4.171759e+04     0.776691   1.132530e+05     4229.503202   \n",
       "min    5.008827e+06     0.000000   3.375000e+04   -24946.000000   \n",
       "25%    5.045070e+06     0.000000   1.215000e+05   -19553.000000   \n",
       "50%    5.078842e+06     0.000000   1.665000e+05   -15661.500000   \n",
       "75%    5.115673e+06     1.000000   2.250000e+05   -12417.000000   \n",
       "max    5.150412e+06    14.000000   1.575000e+06    -7705.000000   \n",
       "\n",
       "       Employed_days  Mobile_phone   Work_Phone        Phone     EMAIL_ID  \\\n",
       "count    1548.000000        1548.0  1548.000000  1548.000000  1548.000000   \n",
       "mean    59364.689922           1.0     0.208010     0.309432     0.092377   \n",
       "std    137808.062701           0.0     0.406015     0.462409     0.289651   \n",
       "min    -14887.000000           1.0     0.000000     0.000000     0.000000   \n",
       "25%     -3174.500000           1.0     0.000000     0.000000     0.000000   \n",
       "50%     -1565.000000           1.0     0.000000     0.000000     0.000000   \n",
       "75%      -431.750000           1.0     0.000000     1.000000     0.000000   \n",
       "max    365243.000000           1.0     1.000000     1.000000     1.000000   \n",
       "\n",
       "       Family_Members        label  \n",
       "count     1548.000000  1548.000000  \n",
       "mean         2.161499     0.113049  \n",
       "std          0.947772     0.316755  \n",
       "min          1.000000     0.000000  \n",
       "25%          2.000000     0.000000  \n",
       "50%          2.000000     0.000000  \n",
       "75%          3.000000     0.000000  \n",
       "max         15.000000     1.000000  "
      ]
     },
     "execution_count": 6,
     "metadata": {},
     "output_type": "execute_result"
    }
   ],
   "source": [
    "# Lets check descriptive statistics of the DataFrame\n",
    "df.describe()"
   ]
  },
  {
   "cell_type": "code",
   "execution_count": 7,
   "id": "2618489f",
   "metadata": {},
   "outputs": [
    {
     "data": {
      "text/plain": [
       "Index(['Ind_ID', 'GENDER', 'Car_Owner', 'Propert_Owner', 'CHILDREN',\n",
       "       'Annual_income', 'Type_Income', 'EDUCATION', 'Marital_status',\n",
       "       'Housing_type', 'Birthday_count', 'Employed_days', 'Mobile_phone',\n",
       "       'Work_Phone', 'Phone', 'EMAIL_ID', 'Type_Occupation', 'Family_Members',\n",
       "       'label'],\n",
       "      dtype='object')"
      ]
     },
     "execution_count": 7,
     "metadata": {},
     "output_type": "execute_result"
    }
   ],
   "source": [
    "df.columns"
   ]
  },
  {
   "cell_type": "code",
   "execution_count": 8,
   "id": "f6eee4d8",
   "metadata": {},
   "outputs": [],
   "source": [
    "# Rename the features to a more readable feature names \n",
    "df = df.rename(columns={    \n",
    "    \"Ind_ID\"              :\"ID\", \n",
    "    'GENDER'              :'Gender',\n",
    "    'Car_Owner'           :'car',\n",
    "    'Propert_Owner'       :'property',\n",
    "    'CHILDREN'            :'Children_count',\n",
    "    'Annual_income'       :'Income',\n",
    "    'NAME_INCOME_TYPE'    :'Employment_status',\n",
    "    'EDUCATION'           :'Education_level',\n",
    "    'Housing_type'        :'Dwelling',\n",
    "    'Employed_days'       :'Employment_length',\n",
    "    'Mobile_phone'        :'mobile_phone',\n",
    "    'Work_Phone'          :\"work_phone\",\n",
    "    'Phone'               :'phone',\n",
    "    'EMAIL_ID'            :'email_id',\n",
    "    'Type_Occupation'     :'job_Title',\n",
    "    'Fmaily_Member'       :'Family_member_count',})"
   ]
  },
  {
   "cell_type": "code",
   "execution_count": 9,
   "id": "b8f99d85",
   "metadata": {},
   "outputs": [
    {
     "name": "stdout",
     "output_type": "stream",
     "text": [
      "<class 'pandas.core.frame.DataFrame'>\n",
      "Int64Index: 1548 entries, 0 to 1547\n",
      "Data columns (total 19 columns):\n",
      " #   Column             Non-Null Count  Dtype  \n",
      "---  ------             --------------  -----  \n",
      " 0   ID                 1548 non-null   int64  \n",
      " 1   Gender             1541 non-null   object \n",
      " 2   car                1548 non-null   object \n",
      " 3   property           1548 non-null   object \n",
      " 4   Children_count     1548 non-null   int64  \n",
      " 5   Income             1525 non-null   float64\n",
      " 6   Type_Income        1548 non-null   object \n",
      " 7   Education_level    1548 non-null   object \n",
      " 8   Marital_status     1548 non-null   object \n",
      " 9   Dwelling           1548 non-null   object \n",
      " 10  Birthday_count     1526 non-null   float64\n",
      " 11  Employment_length  1548 non-null   int64  \n",
      " 12  mobile_phone       1548 non-null   int64  \n",
      " 13  work_phone         1548 non-null   int64  \n",
      " 14  phone              1548 non-null   int64  \n",
      " 15  email_id           1548 non-null   int64  \n",
      " 16  job_Title          1060 non-null   object \n",
      " 17  Family_Members     1548 non-null   int64  \n",
      " 18  label              1548 non-null   int64  \n",
      "dtypes: float64(2), int64(9), object(8)\n",
      "memory usage: 241.9+ KB\n"
     ]
    }
   ],
   "source": [
    "# Lets check summary of the DataFrame\n",
    "df.info()"
   ]
  },
  {
   "cell_type": "code",
   "execution_count": 10,
   "id": "f5b19d31",
   "metadata": {},
   "outputs": [
    {
     "data": {
      "text/plain": [
       "(1548, 19)"
      ]
     },
     "execution_count": 10,
     "metadata": {},
     "output_type": "execute_result"
    }
   ],
   "source": [
    "df.shape"
   ]
  },
  {
   "cell_type": "code",
   "execution_count": 11,
   "id": "429c3c95",
   "metadata": {},
   "outputs": [
    {
     "data": {
      "text/plain": [
       "ID                     0\n",
       "Gender                 7\n",
       "car                    0\n",
       "property               0\n",
       "Children_count         0\n",
       "Income                23\n",
       "Type_Income            0\n",
       "Education_level        0\n",
       "Marital_status         0\n",
       "Dwelling               0\n",
       "Birthday_count        22\n",
       "Employment_length      0\n",
       "mobile_phone           0\n",
       "work_phone             0\n",
       "phone                  0\n",
       "email_id               0\n",
       "job_Title            488\n",
       "Family_Members         0\n",
       "label                  0\n",
       "dtype: int64"
      ]
     },
     "execution_count": 11,
     "metadata": {},
     "output_type": "execute_result"
    }
   ],
   "source": [
    "# Lets check null values in the DataFrame\n",
    "df.isnull().sum()"
   ]
  },
  {
   "cell_type": "markdown",
   "id": "83aaa38c",
   "metadata": {},
   "source": [
    "#### Visualizing the missing values :"
   ]
  },
  {
   "cell_type": "code",
   "execution_count": 12,
   "id": "8223a559",
   "metadata": {
    "scrolled": false
   },
   "outputs": [
    {
     "data": {
      "text/plain": [
       "<Axes: >"
      ]
     },
     "execution_count": 12,
     "metadata": {},
     "output_type": "execute_result"
    },
    {
     "data": {
      "image/png": "[encoded data removed]",
      "text/plain": [
       "<Figure size 2500x1000 with 3 Axes>"
      ]
     },
     "metadata": {},
     "output_type": "display_data"
    }
   ],
   "source": [
    "import missingno as msno\n",
    "msno.bar(df)"
   ]
  },
  {
   "cell_type": "code",
   "execution_count": 13,
   "id": "fb068443",
   "metadata": {},
   "outputs": [
    {
     "data": {
      "text/plain": [
       "<Axes: >"
      ]
     },
     "execution_count": 13,
     "metadata": {},
     "output_type": "execute_result"
    },
    {
     "data": {
      "image/png": "[encoded data removed]",
      "text/plain": [
       "<Figure size 2500x1000 with 2 Axes>"
      ]
     },
     "metadata": {},
     "output_type": "display_data"
    }
   ],
   "source": [
    "msno.matrix(df)"
   ]
  },
  {
   "cell_type": "code",
   "execution_count": 14,
   "id": "e60fbf26",
   "metadata": {},
   "outputs": [
    {
     "data": {
      "text/plain": [
       "<Axes: >"
      ]
     },
     "execution_count": 14,
     "metadata": {},
     "output_type": "execute_result"
    },
    {
     "data": {
      "image/png": "[encoded data removed]",
      "text/plain": [
       "<Figure size 2500x1000 with 1 Axes>"
      ]
     },
     "metadata": {},
     "output_type": "display_data"
    }
   ],
   "source": [
    "msno.dendrogram(df)"
   ]
  },
  {
   "cell_type": "code",
   "execution_count": 15,
   "id": "b164d9e5",
   "metadata": {},
   "outputs": [
    {
     "data": {
      "text/plain": [
       "ID                     0\n",
       "Gender                 7\n",
       "car                    0\n",
       "property               0\n",
       "Children_count         0\n",
       "Income                23\n",
       "Type_Income            0\n",
       "Education_level        0\n",
       "Marital_status         0\n",
       "Dwelling               0\n",
       "Birthday_count        22\n",
       "Employment_length      0\n",
       "mobile_phone           0\n",
       "work_phone             0\n",
       "phone                  0\n",
       "email_id               0\n",
       "job_Title            488\n",
       "Family_Members         0\n",
       "label                  0\n",
       "dtype: int64"
      ]
     },
     "execution_count": 15,
     "metadata": {},
     "output_type": "execute_result"
    }
   ],
   "source": [
    "df.isnull().sum()"
   ]
  },
  {
   "cell_type": "markdown",
   "id": "91c01282",
   "metadata": {},
   "source": [
    "#### 1) Handling missing values\tof Gender"
   ]
  },
  {
   "cell_type": "code",
   "execution_count": 16,
   "id": "b08f4dc8",
   "metadata": {},
   "outputs": [
    {
     "data": {
      "text/plain": [
       "7"
      ]
     },
     "execution_count": 16,
     "metadata": {},
     "output_type": "execute_result"
    }
   ],
   "source": [
    "df[\"Gender\"].isnull().sum()"
   ]
  },
  {
   "cell_type": "code",
   "execution_count": 17,
   "id": "0805cd46",
   "metadata": {},
   "outputs": [
    {
     "data": {
      "text/plain": [
       "array(['M', 'F', nan], dtype=object)"
      ]
     },
     "execution_count": 17,
     "metadata": {},
     "output_type": "execute_result"
    }
   ],
   "source": [
    "# cheking for unique values \n",
    "df[\"Gender\"].unique()"
   ]
  },
  {
   "cell_type": "code",
   "execution_count": 18,
   "id": "77162d9d",
   "metadata": {},
   "outputs": [],
   "source": [
    "# Impute missing values in 'Gender'column with the mode \n",
    "df['Gender'].fillna(df['Gender'].mode()[0],inplace=True)"
   ]
  },
  {
   "cell_type": "code",
   "execution_count": 19,
   "id": "7b91e3cc",
   "metadata": {},
   "outputs": [
    {
     "data": {
      "text/plain": [
       "array(['M', 'F'], dtype=object)"
      ]
     },
     "execution_count": 19,
     "metadata": {},
     "output_type": "execute_result"
    }
   ],
   "source": [
    "df[\"Gender\"].unique()"
   ]
  },
  {
   "cell_type": "code",
   "execution_count": 20,
   "id": "649186f3",
   "metadata": {},
   "outputs": [
    {
     "data": {
      "text/plain": [
       "0"
      ]
     },
     "execution_count": 20,
     "metadata": {},
     "output_type": "execute_result"
    }
   ],
   "source": [
    "df[\"Gender\"].isnull().sum()"
   ]
  },
  {
   "cell_type": "markdown",
   "id": "baa92d16",
   "metadata": {},
   "source": [
    "#### 2) Handling missing values of Income"
   ]
  },
  {
   "cell_type": "code",
   "execution_count": 21,
   "id": "ccc3c7d6",
   "metadata": {},
   "outputs": [
    {
     "data": {
      "text/plain": [
       "23"
      ]
     },
     "execution_count": 21,
     "metadata": {},
     "output_type": "execute_result"
    }
   ],
   "source": [
    "df[\"Income\"].isnull().sum()"
   ]
  },
  {
   "cell_type": "code",
   "execution_count": 22,
   "id": "8e6c0fa1",
   "metadata": {},
   "outputs": [],
   "source": [
    "df['Income'].fillna(df['Income'].mean(),inplace=True)"
   ]
  },
  {
   "cell_type": "code",
   "execution_count": 23,
   "id": "166d9ee9",
   "metadata": {},
   "outputs": [
    {
     "data": {
      "text/plain": [
       "array([ 180000.        ,  315000.        ,  191399.32622951,\n",
       "        450000.        ,   90000.        ,  472500.        ,\n",
       "        270000.        ,  126000.        ,  202500.        ,\n",
       "        157500.        ,  112500.        ,  540000.        ,\n",
       "        292500.        ,  135000.        ,   76500.        ,\n",
       "        215100.        ,  225000.        ,   67500.        ,\n",
       "        171000.        ,  103500.        ,   99000.        ,\n",
       "        391500.        ,   65250.        ,   72900.        ,\n",
       "        360000.        ,  256500.        ,  675000.        ,\n",
       "        247500.        ,   85500.        ,  121500.        ,\n",
       "        130500.        ,  211500.        ,   81000.        ,\n",
       "         72000.        ,  148500.        ,  162000.        ,\n",
       "        195750.        ,  585000.        ,  216000.        ,\n",
       "        306000.        ,  108000.        ,   63000.        ,\n",
       "         45000.        ,  337500.        ,  131400.        ,\n",
       "        117000.        ,  445500.        ,  234000.        ,\n",
       "       1575000.        ,  144000.        ,   67050.        ,\n",
       "         73350.        ,  193500.        ,  900000.        ,\n",
       "         94500.        ,  198000.        ,   54000.        ,\n",
       "        166500.        ,  167400.        ,  153000.        ,\n",
       "        423000.        ,  243000.        ,  283500.        ,\n",
       "        252000.        ,  495000.        ,  612000.        ,\n",
       "         36000.        ,  139500.        ,  133650.        ,\n",
       "        427500.        ,  261000.        ,  231750.        ,\n",
       "         90900.        ,   45900.        ,  119250.        ,\n",
       "         58500.        ,  328500.        ,  787500.        ,\n",
       "        594000.        ,  119700.        ,   69372.        ,\n",
       "         37800.        ,  387000.        ,  207000.        ,\n",
       "        189000.        ,  333000.        ,  105750.        ,\n",
       "        382500.        ,  141750.        ,   40500.        ,\n",
       "        405000.        ,   44550.        ,  301500.        ,\n",
       "        351000.        ,  175500.        ,  121900.5       ,\n",
       "        238500.        ,   33750.        ,  116100.        ,\n",
       "        297000.        ,  630000.        ,  418500.        ,\n",
       "         83250.        ,  173250.        ,  274500.        ,\n",
       "        115200.        ,   56250.        ,   95850.        ,\n",
       "        185400.        ,  810000.        ,  184500.        ,\n",
       "        165600.        ,  114750.        ,   47250.        ,\n",
       "         49500.        ,   69750.        ])"
      ]
     },
     "execution_count": 23,
     "metadata": {},
     "output_type": "execute_result"
    }
   ],
   "source": [
    "df[\"Income\"].unique()"
   ]
  },
  {
   "cell_type": "markdown",
   "id": "35862a10",
   "metadata": {},
   "source": [
    "#### 3) Handling missing values of Birthday_count        "
   ]
  },
  {
   "cell_type": "code",
   "execution_count": 24,
   "id": "33c1e08c",
   "metadata": {},
   "outputs": [
    {
     "data": {
      "text/plain": [
       "22"
      ]
     },
     "execution_count": 24,
     "metadata": {},
     "output_type": "execute_result"
    }
   ],
   "source": [
    "df[\"Birthday_count\"].isnull().sum()"
   ]
  },
  {
   "cell_type": "code",
   "execution_count": 25,
   "id": "5fea4972",
   "metadata": {},
   "outputs": [
    {
     "data": {
      "text/plain": [
       "array([-18772., -13557.,     nan, ..., -10229., -15292., -16601.])"
      ]
     },
     "execution_count": 25,
     "metadata": {},
     "output_type": "execute_result"
    }
   ],
   "source": [
    "df[\"Birthday_count\"].unique()"
   ]
  },
  {
   "cell_type": "code",
   "execution_count": 26,
   "id": "a02b8a43",
   "metadata": {},
   "outputs": [],
   "source": [
    "df['Birthday_count'].fillna(df['Birthday_count'].mean(),inplace=True)"
   ]
  },
  {
   "cell_type": "code",
   "execution_count": 27,
   "id": "958c6a60",
   "metadata": {},
   "outputs": [
    {
     "data": {
      "text/plain": [
       "array([-18772.        , -13557.        , -16040.34207077, ...,\n",
       "       -10229.        , -15292.        , -16601.        ])"
      ]
     },
     "execution_count": 27,
     "metadata": {},
     "output_type": "execute_result"
    }
   ],
   "source": [
    "df[\"Birthday_count\"].unique()"
   ]
  },
  {
   "cell_type": "code",
   "execution_count": 28,
   "id": "52f79978",
   "metadata": {},
   "outputs": [
    {
     "data": {
      "text/plain": [
       "0"
      ]
     },
     "execution_count": 28,
     "metadata": {},
     "output_type": "execute_result"
    }
   ],
   "source": [
    "df[\"Birthday_count\"].isnull().sum()"
   ]
  },
  {
   "cell_type": "markdown",
   "id": "cc8085eb",
   "metadata": {},
   "source": [
    "#### 4) Handling missing values of job_Title            "
   ]
  },
  {
   "cell_type": "code",
   "execution_count": 29,
   "id": "fdba1402",
   "metadata": {},
   "outputs": [
    {
     "data": {
      "text/plain": [
       "488"
      ]
     },
     "execution_count": 29,
     "metadata": {},
     "output_type": "execute_result"
    }
   ],
   "source": [
    "df['job_Title'].isnull().sum()"
   ]
  },
  {
   "cell_type": "code",
   "execution_count": 30,
   "id": "f53d9158",
   "metadata": {},
   "outputs": [
    {
     "data": {
      "text/plain": [
       "Laborers                 268\n",
       "Core staff               174\n",
       "Managers                 136\n",
       "Sales staff              122\n",
       "Drivers                   86\n",
       "High skill tech staff     65\n",
       "Medicine staff            50\n",
       "Accountants               44\n",
       "Security staff            25\n",
       "Cleaning staff            22\n",
       "Cooking staff             21\n",
       "Private service staff     17\n",
       "Secretaries                9\n",
       "Low-skill Laborers         9\n",
       "Waiters/barmen staff       5\n",
       "HR staff                   3\n",
       "IT staff                   2\n",
       "Realty agents              2\n",
       "Name: job_Title, dtype: int64"
      ]
     },
     "execution_count": 30,
     "metadata": {},
     "output_type": "execute_result"
    }
   ],
   "source": [
    "df['job_Title'].value_counts()"
   ]
  },
  {
   "cell_type": "code",
   "execution_count": 31,
   "id": "304d6365",
   "metadata": {},
   "outputs": [],
   "source": [
    "# Dropping this column as multiple values are missing\n",
    "df.drop(columns = ['job_Title'],inplace=True)"
   ]
  },
  {
   "cell_type": "code",
   "execution_count": 32,
   "id": "c8e7e696",
   "metadata": {},
   "outputs": [
    {
     "data": {
      "text/html": [
       "<div>\n",
       "<style scoped>\n",
       "    .dataframe tbody tr th:only-of-type {\n",
       "        vertical-align: middle;\n",
       "    }\n",
       "\n",
       "    .dataframe tbody tr th {\n",
       "        vertical-align: top;\n",
       "    }\n",
       "\n",
       "    .dataframe thead th {\n",
       "        text-align: right;\n",
       "    }\n",
       "</style>\n",
       "<table border=\"1\" class=\"dataframe\">\n",
       "  <thead>\n",
       "    <tr style=\"text-align: right;\">\n",
       "      <th></th>\n",
       "      <th>ID</th>\n",
       "      <th>Gender</th>\n",
       "      <th>car</th>\n",
       "      <th>property</th>\n",
       "      <th>Children_count</th>\n",
       "      <th>Income</th>\n",
       "      <th>Type_Income</th>\n",
       "      <th>Education_level</th>\n",
       "      <th>Marital_status</th>\n",
       "      <th>Dwelling</th>\n",
       "      <th>Birthday_count</th>\n",
       "      <th>Employment_length</th>\n",
       "      <th>mobile_phone</th>\n",
       "      <th>work_phone</th>\n",
       "      <th>phone</th>\n",
       "      <th>email_id</th>\n",
       "      <th>Family_Members</th>\n",
       "      <th>label</th>\n",
       "    </tr>\n",
       "  </thead>\n",
       "  <tbody>\n",
       "    <tr>\n",
       "      <th>0</th>\n",
       "      <td>5008827</td>\n",
       "      <td>M</td>\n",
       "      <td>Y</td>\n",
       "      <td>Y</td>\n",
       "      <td>0</td>\n",
       "      <td>180000.00000</td>\n",
       "      <td>Pensioner</td>\n",
       "      <td>Higher education</td>\n",
       "      <td>Married</td>\n",
       "      <td>House / apartment</td>\n",
       "      <td>-18772.000000</td>\n",
       "      <td>365243</td>\n",
       "      <td>1</td>\n",
       "      <td>0</td>\n",
       "      <td>0</td>\n",
       "      <td>0</td>\n",
       "      <td>2</td>\n",
       "      <td>1</td>\n",
       "    </tr>\n",
       "    <tr>\n",
       "      <th>1</th>\n",
       "      <td>5009744</td>\n",
       "      <td>F</td>\n",
       "      <td>Y</td>\n",
       "      <td>N</td>\n",
       "      <td>0</td>\n",
       "      <td>315000.00000</td>\n",
       "      <td>Commercial associate</td>\n",
       "      <td>Higher education</td>\n",
       "      <td>Married</td>\n",
       "      <td>House / apartment</td>\n",
       "      <td>-13557.000000</td>\n",
       "      <td>-586</td>\n",
       "      <td>1</td>\n",
       "      <td>1</td>\n",
       "      <td>1</td>\n",
       "      <td>0</td>\n",
       "      <td>2</td>\n",
       "      <td>1</td>\n",
       "    </tr>\n",
       "    <tr>\n",
       "      <th>2</th>\n",
       "      <td>5009746</td>\n",
       "      <td>F</td>\n",
       "      <td>Y</td>\n",
       "      <td>N</td>\n",
       "      <td>0</td>\n",
       "      <td>315000.00000</td>\n",
       "      <td>Commercial associate</td>\n",
       "      <td>Higher education</td>\n",
       "      <td>Married</td>\n",
       "      <td>House / apartment</td>\n",
       "      <td>-16040.342071</td>\n",
       "      <td>-586</td>\n",
       "      <td>1</td>\n",
       "      <td>1</td>\n",
       "      <td>1</td>\n",
       "      <td>0</td>\n",
       "      <td>2</td>\n",
       "      <td>1</td>\n",
       "    </tr>\n",
       "    <tr>\n",
       "      <th>3</th>\n",
       "      <td>5009749</td>\n",
       "      <td>F</td>\n",
       "      <td>Y</td>\n",
       "      <td>N</td>\n",
       "      <td>0</td>\n",
       "      <td>191399.32623</td>\n",
       "      <td>Commercial associate</td>\n",
       "      <td>Higher education</td>\n",
       "      <td>Married</td>\n",
       "      <td>House / apartment</td>\n",
       "      <td>-13557.000000</td>\n",
       "      <td>-586</td>\n",
       "      <td>1</td>\n",
       "      <td>1</td>\n",
       "      <td>1</td>\n",
       "      <td>0</td>\n",
       "      <td>2</td>\n",
       "      <td>1</td>\n",
       "    </tr>\n",
       "  </tbody>\n",
       "</table>\n",
       "</div>"
      ],
      "text/plain": [
       "        ID Gender car property  Children_count        Income  \\\n",
       "0  5008827      M   Y        Y               0  180000.00000   \n",
       "1  5009744      F   Y        N               0  315000.00000   \n",
       "2  5009746      F   Y        N               0  315000.00000   \n",
       "3  5009749      F   Y        N               0  191399.32623   \n",
       "\n",
       "            Type_Income   Education_level Marital_status           Dwelling  \\\n",
       "0             Pensioner  Higher education        Married  House / apartment   \n",
       "1  Commercial associate  Higher education        Married  House / apartment   \n",
       "2  Commercial associate  Higher education        Married  House / apartment   \n",
       "3  Commercial associate  Higher education        Married  House / apartment   \n",
       "\n",
       "   Birthday_count  Employment_length  mobile_phone  work_phone  phone  \\\n",
       "0   -18772.000000             365243             1           0      0   \n",
       "1   -13557.000000               -586             1           1      1   \n",
       "2   -16040.342071               -586             1           1      1   \n",
       "3   -13557.000000               -586             1           1      1   \n",
       "\n",
       "   email_id  Family_Members  label  \n",
       "0         0               2      1  \n",
       "1         0               2      1  \n",
       "2         0               2      1  \n",
       "3         0               2      1  "
      ]
     },
     "execution_count": 32,
     "metadata": {},
     "output_type": "execute_result"
    }
   ],
   "source": [
    "df.head(4)"
   ]
  },
  {
   "cell_type": "code",
   "execution_count": 33,
   "id": "aee1b0d0",
   "metadata": {},
   "outputs": [],
   "source": [
    "# Converting all negative values to actual age values\n",
    "df['Birthday_count']= abs(round((df['Birthday_count']/-365),0))"
   ]
  },
  {
   "cell_type": "code",
   "execution_count": 34,
   "id": "cdf8eda8",
   "metadata": {},
   "outputs": [],
   "source": [
    "# Converting negative values of employement length in years\n",
    "df['Employment_length']= abs(round((df['Employment_length']/-365),0))"
   ]
  },
  {
   "cell_type": "code",
   "execution_count": 35,
   "id": "2b90fff5",
   "metadata": {},
   "outputs": [
    {
     "data": {
      "text/plain": [
       "7.0"
      ]
     },
     "execution_count": 35,
     "metadata": {},
     "output_type": "execute_result"
    }
   ],
   "source": [
    "# Replacing the extreme values with median\n",
    "df['Employment_length'].median()"
   ]
  },
  {
   "cell_type": "code",
   "execution_count": 36,
   "id": "fb514e8a",
   "metadata": {},
   "outputs": [],
   "source": [
    "df['Employment_length'].replace(1001.0,7.0,inplace=True)"
   ]
  },
  {
   "cell_type": "code",
   "execution_count": 37,
   "id": "e332ec64",
   "metadata": {},
   "outputs": [],
   "source": [
    "df['Gender'].replace(['F','M'], [0,1],inplace=True)\n",
    "df['car'].replace(['Y','N'], [1,0],inplace=True)\n",
    "df['property'].replace(['Y','N'], [1,0],inplace=True)"
   ]
  },
  {
   "cell_type": "code",
   "execution_count": 38,
   "id": "e4257421",
   "metadata": {},
   "outputs": [],
   "source": [
    "from sklearn.preprocessing import LabelEncoder\n",
    "le=LabelEncoder()\n",
    "for col in df:\n",
    "    if df[col].dtype=='object':\n",
    "        df[col]=le.fit_transform(df[col])"
   ]
  },
  {
   "cell_type": "code",
   "execution_count": null,
   "id": "413a9276",
   "metadata": {},
   "outputs": [],
   "source": []
  },
  {
   "cell_type": "code",
   "execution_count": 39,
   "id": "e7668776",
   "metadata": {},
   "outputs": [
    {
     "data": {
      "text/html": [
       "<div>\n",
       "<style scoped>\n",
       "    .dataframe tbody tr th:only-of-type {\n",
       "        vertical-align: middle;\n",
       "    }\n",
       "\n",
       "    .dataframe tbody tr th {\n",
       "        vertical-align: top;\n",
       "    }\n",
       "\n",
       "    .dataframe thead th {\n",
       "        text-align: right;\n",
       "    }\n",
       "</style>\n",
       "<table border=\"1\" class=\"dataframe\">\n",
       "  <thead>\n",
       "    <tr style=\"text-align: right;\">\n",
       "      <th></th>\n",
       "      <th>ID</th>\n",
       "      <th>Gender</th>\n",
       "      <th>car</th>\n",
       "      <th>property</th>\n",
       "      <th>Children_count</th>\n",
       "      <th>Income</th>\n",
       "      <th>Type_Income</th>\n",
       "      <th>Education_level</th>\n",
       "      <th>Marital_status</th>\n",
       "      <th>Dwelling</th>\n",
       "      <th>Birthday_count</th>\n",
       "      <th>Employment_length</th>\n",
       "      <th>mobile_phone</th>\n",
       "      <th>work_phone</th>\n",
       "      <th>phone</th>\n",
       "      <th>email_id</th>\n",
       "      <th>Family_Members</th>\n",
       "      <th>label</th>\n",
       "    </tr>\n",
       "  </thead>\n",
       "  <tbody>\n",
       "    <tr>\n",
       "      <th>0</th>\n",
       "      <td>5008827</td>\n",
       "      <td>1</td>\n",
       "      <td>1</td>\n",
       "      <td>1</td>\n",
       "      <td>0</td>\n",
       "      <td>180000.00000</td>\n",
       "      <td>1</td>\n",
       "      <td>1</td>\n",
       "      <td>1</td>\n",
       "      <td>1</td>\n",
       "      <td>51.0</td>\n",
       "      <td>7.0</td>\n",
       "      <td>1</td>\n",
       "      <td>0</td>\n",
       "      <td>0</td>\n",
       "      <td>0</td>\n",
       "      <td>2</td>\n",
       "      <td>1</td>\n",
       "    </tr>\n",
       "    <tr>\n",
       "      <th>1</th>\n",
       "      <td>5009744</td>\n",
       "      <td>0</td>\n",
       "      <td>1</td>\n",
       "      <td>0</td>\n",
       "      <td>0</td>\n",
       "      <td>315000.00000</td>\n",
       "      <td>0</td>\n",
       "      <td>1</td>\n",
       "      <td>1</td>\n",
       "      <td>1</td>\n",
       "      <td>37.0</td>\n",
       "      <td>2.0</td>\n",
       "      <td>1</td>\n",
       "      <td>1</td>\n",
       "      <td>1</td>\n",
       "      <td>0</td>\n",
       "      <td>2</td>\n",
       "      <td>1</td>\n",
       "    </tr>\n",
       "    <tr>\n",
       "      <th>2</th>\n",
       "      <td>5009746</td>\n",
       "      <td>0</td>\n",
       "      <td>1</td>\n",
       "      <td>0</td>\n",
       "      <td>0</td>\n",
       "      <td>315000.00000</td>\n",
       "      <td>0</td>\n",
       "      <td>1</td>\n",
       "      <td>1</td>\n",
       "      <td>1</td>\n",
       "      <td>44.0</td>\n",
       "      <td>2.0</td>\n",
       "      <td>1</td>\n",
       "      <td>1</td>\n",
       "      <td>1</td>\n",
       "      <td>0</td>\n",
       "      <td>2</td>\n",
       "      <td>1</td>\n",
       "    </tr>\n",
       "    <tr>\n",
       "      <th>3</th>\n",
       "      <td>5009749</td>\n",
       "      <td>0</td>\n",
       "      <td>1</td>\n",
       "      <td>0</td>\n",
       "      <td>0</td>\n",
       "      <td>191399.32623</td>\n",
       "      <td>0</td>\n",
       "      <td>1</td>\n",
       "      <td>1</td>\n",
       "      <td>1</td>\n",
       "      <td>37.0</td>\n",
       "      <td>2.0</td>\n",
       "      <td>1</td>\n",
       "      <td>1</td>\n",
       "      <td>1</td>\n",
       "      <td>0</td>\n",
       "      <td>2</td>\n",
       "      <td>1</td>\n",
       "    </tr>\n",
       "  </tbody>\n",
       "</table>\n",
       "</div>"
      ],
      "text/plain": [
       "        ID  Gender  car  property  Children_count        Income  Type_Income  \\\n",
       "0  5008827       1    1         1               0  180000.00000            1   \n",
       "1  5009744       0    1         0               0  315000.00000            0   \n",
       "2  5009746       0    1         0               0  315000.00000            0   \n",
       "3  5009749       0    1         0               0  191399.32623            0   \n",
       "\n",
       "   Education_level  Marital_status  Dwelling  Birthday_count  \\\n",
       "0                1               1         1            51.0   \n",
       "1                1               1         1            37.0   \n",
       "2                1               1         1            44.0   \n",
       "3                1               1         1            37.0   \n",
       "\n",
       "   Employment_length  mobile_phone  work_phone  phone  email_id  \\\n",
       "0                7.0             1           0      0         0   \n",
       "1                2.0             1           1      1         0   \n",
       "2                2.0             1           1      1         0   \n",
       "3                2.0             1           1      1         0   \n",
       "\n",
       "   Family_Members  label  \n",
       "0               2      1  \n",
       "1               2      1  \n",
       "2               2      1  \n",
       "3               2      1  "
      ]
     },
     "execution_count": 39,
     "metadata": {},
     "output_type": "execute_result"
    }
   ],
   "source": [
    "df.head(4)"
   ]
  },
  {
   "cell_type": "markdown",
   "id": "6d9fc877",
   "metadata": {},
   "source": [
    "### Outliers Check"
   ]
  },
  {
   "cell_type": "markdown",
   "id": "77cfe691",
   "metadata": {},
   "source": [
    "#### Removing outliers in Income"
   ]
  },
  {
   "cell_type": "code",
   "execution_count": 40,
   "id": "c7b6093e",
   "metadata": {},
   "outputs": [
    {
     "data": {
      "image/png": "[encoded data removed]",
      "text/plain": [
       "<Figure size 300x300 with 1 Axes>"
      ]
     },
     "metadata": {},
     "output_type": "display_data"
    }
   ],
   "source": [
    "# Checking outliers using boxplot\n",
    "import matplotlib.pyplot as plt\n",
    "plt.figure(figsize=(3,3))\n",
    "plt.boxplot(df[\"Income\"])\n",
    "plt.grid(True)\n",
    "plt.show()"
   ]
  },
  {
   "cell_type": "code",
   "execution_count": 41,
   "id": "e276973b",
   "metadata": {},
   "outputs": [
    {
     "data": {
      "text/html": [
       "<div>\n",
       "<style scoped>\n",
       "    .dataframe tbody tr th:only-of-type {\n",
       "        vertical-align: middle;\n",
       "    }\n",
       "\n",
       "    .dataframe tbody tr th {\n",
       "        vertical-align: top;\n",
       "    }\n",
       "\n",
       "    .dataframe thead th {\n",
       "        text-align: right;\n",
       "    }\n",
       "</style>\n",
       "<table border=\"1\" class=\"dataframe\">\n",
       "  <thead>\n",
       "    <tr style=\"text-align: right;\">\n",
       "      <th></th>\n",
       "      <th>ID</th>\n",
       "      <th>Gender</th>\n",
       "      <th>car</th>\n",
       "      <th>property</th>\n",
       "      <th>Children_count</th>\n",
       "      <th>Income</th>\n",
       "      <th>Type_Income</th>\n",
       "      <th>Education_level</th>\n",
       "      <th>Marital_status</th>\n",
       "      <th>Dwelling</th>\n",
       "      <th>Birthday_count</th>\n",
       "      <th>Employment_length</th>\n",
       "      <th>mobile_phone</th>\n",
       "      <th>work_phone</th>\n",
       "      <th>phone</th>\n",
       "      <th>email_id</th>\n",
       "      <th>Family_Members</th>\n",
       "      <th>label</th>\n",
       "    </tr>\n",
       "  </thead>\n",
       "  <tbody>\n",
       "    <tr>\n",
       "      <th>count</th>\n",
       "      <td>1.548000e+03</td>\n",
       "      <td>1548.000000</td>\n",
       "      <td>1548.000000</td>\n",
       "      <td>1548.000000</td>\n",
       "      <td>1548.000000</td>\n",
       "      <td>1.548000e+03</td>\n",
       "      <td>1548.000000</td>\n",
       "      <td>1548.000000</td>\n",
       "      <td>1548.000000</td>\n",
       "      <td>1548.000000</td>\n",
       "      <td>1548.000000</td>\n",
       "      <td>1548.000000</td>\n",
       "      <td>1548.0</td>\n",
       "      <td>1548.000000</td>\n",
       "      <td>1548.000000</td>\n",
       "      <td>1548.000000</td>\n",
       "      <td>1548.000000</td>\n",
       "      <td>1548.000000</td>\n",
       "    </tr>\n",
       "    <tr>\n",
       "      <th>mean</th>\n",
       "      <td>5.078920e+06</td>\n",
       "      <td>0.366925</td>\n",
       "      <td>0.403101</td>\n",
       "      <td>0.652455</td>\n",
       "      <td>0.412791</td>\n",
       "      <td>1.913993e+05</td>\n",
       "      <td>1.870155</td>\n",
       "      <td>3.067829</td>\n",
       "      <td>1.435401</td>\n",
       "      <td>1.290052</td>\n",
       "      <td>43.953488</td>\n",
       "      <td>7.251292</td>\n",
       "      <td>1.0</td>\n",
       "      <td>0.208010</td>\n",
       "      <td>0.309432</td>\n",
       "      <td>0.092377</td>\n",
       "      <td>2.161499</td>\n",
       "      <td>0.113049</td>\n",
       "    </tr>\n",
       "    <tr>\n",
       "      <th>std</th>\n",
       "      <td>4.171759e+04</td>\n",
       "      <td>0.482122</td>\n",
       "      <td>0.490679</td>\n",
       "      <td>0.476345</td>\n",
       "      <td>0.776691</td>\n",
       "      <td>1.124080e+05</td>\n",
       "      <td>1.271461</td>\n",
       "      <td>1.348675</td>\n",
       "      <td>0.980264</td>\n",
       "      <td>0.962371</td>\n",
       "      <td>11.520496</td>\n",
       "      <td>5.997912</td>\n",
       "      <td>0.0</td>\n",
       "      <td>0.406015</td>\n",
       "      <td>0.462409</td>\n",
       "      <td>0.289651</td>\n",
       "      <td>0.947772</td>\n",
       "      <td>0.316755</td>\n",
       "    </tr>\n",
       "    <tr>\n",
       "      <th>min</th>\n",
       "      <td>5.008827e+06</td>\n",
       "      <td>0.000000</td>\n",
       "      <td>0.000000</td>\n",
       "      <td>0.000000</td>\n",
       "      <td>0.000000</td>\n",
       "      <td>3.375000e+04</td>\n",
       "      <td>0.000000</td>\n",
       "      <td>0.000000</td>\n",
       "      <td>0.000000</td>\n",
       "      <td>0.000000</td>\n",
       "      <td>21.000000</td>\n",
       "      <td>0.000000</td>\n",
       "      <td>1.0</td>\n",
       "      <td>0.000000</td>\n",
       "      <td>0.000000</td>\n",
       "      <td>0.000000</td>\n",
       "      <td>1.000000</td>\n",
       "      <td>0.000000</td>\n",
       "    </tr>\n",
       "    <tr>\n",
       "      <th>25%</th>\n",
       "      <td>5.045070e+06</td>\n",
       "      <td>0.000000</td>\n",
       "      <td>0.000000</td>\n",
       "      <td>0.000000</td>\n",
       "      <td>0.000000</td>\n",
       "      <td>1.215000e+05</td>\n",
       "      <td>1.000000</td>\n",
       "      <td>1.000000</td>\n",
       "      <td>1.000000</td>\n",
       "      <td>1.000000</td>\n",
       "      <td>34.000000</td>\n",
       "      <td>3.000000</td>\n",
       "      <td>1.0</td>\n",
       "      <td>0.000000</td>\n",
       "      <td>0.000000</td>\n",
       "      <td>0.000000</td>\n",
       "      <td>2.000000</td>\n",
       "      <td>0.000000</td>\n",
       "    </tr>\n",
       "    <tr>\n",
       "      <th>50%</th>\n",
       "      <td>5.078842e+06</td>\n",
       "      <td>0.000000</td>\n",
       "      <td>0.000000</td>\n",
       "      <td>1.000000</td>\n",
       "      <td>0.000000</td>\n",
       "      <td>1.710000e+05</td>\n",
       "      <td>3.000000</td>\n",
       "      <td>4.000000</td>\n",
       "      <td>1.000000</td>\n",
       "      <td>1.000000</td>\n",
       "      <td>43.000000</td>\n",
       "      <td>7.000000</td>\n",
       "      <td>1.0</td>\n",
       "      <td>0.000000</td>\n",
       "      <td>0.000000</td>\n",
       "      <td>0.000000</td>\n",
       "      <td>2.000000</td>\n",
       "      <td>0.000000</td>\n",
       "    </tr>\n",
       "    <tr>\n",
       "      <th>75%</th>\n",
       "      <td>5.115673e+06</td>\n",
       "      <td>1.000000</td>\n",
       "      <td>1.000000</td>\n",
       "      <td>1.000000</td>\n",
       "      <td>1.000000</td>\n",
       "      <td>2.250000e+05</td>\n",
       "      <td>3.000000</td>\n",
       "      <td>4.000000</td>\n",
       "      <td>2.000000</td>\n",
       "      <td>1.000000</td>\n",
       "      <td>53.000000</td>\n",
       "      <td>9.000000</td>\n",
       "      <td>1.0</td>\n",
       "      <td>0.000000</td>\n",
       "      <td>1.000000</td>\n",
       "      <td>0.000000</td>\n",
       "      <td>3.000000</td>\n",
       "      <td>0.000000</td>\n",
       "    </tr>\n",
       "    <tr>\n",
       "      <th>max</th>\n",
       "      <td>5.150412e+06</td>\n",
       "      <td>1.000000</td>\n",
       "      <td>1.000000</td>\n",
       "      <td>1.000000</td>\n",
       "      <td>14.000000</td>\n",
       "      <td>1.575000e+06</td>\n",
       "      <td>3.000000</td>\n",
       "      <td>4.000000</td>\n",
       "      <td>4.000000</td>\n",
       "      <td>5.000000</td>\n",
       "      <td>68.000000</td>\n",
       "      <td>41.000000</td>\n",
       "      <td>1.0</td>\n",
       "      <td>1.000000</td>\n",
       "      <td>1.000000</td>\n",
       "      <td>1.000000</td>\n",
       "      <td>15.000000</td>\n",
       "      <td>1.000000</td>\n",
       "    </tr>\n",
       "  </tbody>\n",
       "</table>\n",
       "</div>"
      ],
      "text/plain": [
       "                 ID       Gender          car     property  Children_count  \\\n",
       "count  1.548000e+03  1548.000000  1548.000000  1548.000000     1548.000000   \n",
       "mean   5.078920e+06     0.366925     0.403101     0.652455        0.412791   \n",
       "std    4.171759e+04     0.482122     0.490679     0.476345        0.776691   \n",
       "min    5.008827e+06     0.000000     0.000000     0.000000        0.000000   \n",
       "25%    5.045070e+06     0.000000     0.000000     0.000000        0.000000   \n",
       "50%    5.078842e+06     0.000000     0.000000     1.000000        0.000000   \n",
       "75%    5.115673e+06     1.000000     1.000000     1.000000        1.000000   \n",
       "max    5.150412e+06     1.000000     1.000000     1.000000       14.000000   \n",
       "\n",
       "             Income  Type_Income  Education_level  Marital_status  \\\n",
       "count  1.548000e+03  1548.000000      1548.000000     1548.000000   \n",
       "mean   1.913993e+05     1.870155         3.067829        1.435401   \n",
       "std    1.124080e+05     1.271461         1.348675        0.980264   \n",
       "min    3.375000e+04     0.000000         0.000000        0.000000   \n",
       "25%    1.215000e+05     1.000000         1.000000        1.000000   \n",
       "50%    1.710000e+05     3.000000         4.000000        1.000000   \n",
       "75%    2.250000e+05     3.000000         4.000000        2.000000   \n",
       "max    1.575000e+06     3.000000         4.000000        4.000000   \n",
       "\n",
       "          Dwelling  Birthday_count  Employment_length  mobile_phone  \\\n",
       "count  1548.000000     1548.000000        1548.000000        1548.0   \n",
       "mean      1.290052       43.953488           7.251292           1.0   \n",
       "std       0.962371       11.520496           5.997912           0.0   \n",
       "min       0.000000       21.000000           0.000000           1.0   \n",
       "25%       1.000000       34.000000           3.000000           1.0   \n",
       "50%       1.000000       43.000000           7.000000           1.0   \n",
       "75%       1.000000       53.000000           9.000000           1.0   \n",
       "max       5.000000       68.000000          41.000000           1.0   \n",
       "\n",
       "        work_phone        phone     email_id  Family_Members        label  \n",
       "count  1548.000000  1548.000000  1548.000000     1548.000000  1548.000000  \n",
       "mean      0.208010     0.309432     0.092377        2.161499     0.113049  \n",
       "std       0.406015     0.462409     0.289651        0.947772     0.316755  \n",
       "min       0.000000     0.000000     0.000000        1.000000     0.000000  \n",
       "25%       0.000000     0.000000     0.000000        2.000000     0.000000  \n",
       "50%       0.000000     0.000000     0.000000        2.000000     0.000000  \n",
       "75%       0.000000     1.000000     0.000000        3.000000     0.000000  \n",
       "max       1.000000     1.000000     1.000000       15.000000     1.000000  "
      ]
     },
     "execution_count": 41,
     "metadata": {},
     "output_type": "execute_result"
    }
   ],
   "source": [
    "df.describe()"
   ]
  },
  {
   "cell_type": "code",
   "execution_count": 42,
   "id": "90452c28",
   "metadata": {},
   "outputs": [
    {
     "data": {
      "text/plain": [
       "(121500.0, 225000.0)"
      ]
     },
     "execution_count": 42,
     "metadata": {},
     "output_type": "execute_result"
    }
   ],
   "source": [
    "Q1 = df.Income.quantile(0.25)\n",
    "Q3 = df.Income.quantile(0.75)\n",
    "Q1,Q3"
   ]
  },
  {
   "cell_type": "code",
   "execution_count": 43,
   "id": "16cfe991",
   "metadata": {},
   "outputs": [
    {
     "data": {
      "text/plain": [
       "103500.0"
      ]
     },
     "execution_count": 43,
     "metadata": {},
     "output_type": "execute_result"
    }
   ],
   "source": [
    "IQR = Q3 - Q1\n",
    "IQR"
   ]
  },
  {
   "cell_type": "code",
   "execution_count": 44,
   "id": "1161a9ff",
   "metadata": {},
   "outputs": [
    {
     "data": {
      "text/plain": [
       "(-33750.0, 380250.0)"
      ]
     },
     "execution_count": 44,
     "metadata": {},
     "output_type": "execute_result"
    }
   ],
   "source": [
    "lower_limit = Q1 - 1.5*IQR\n",
    "upper_limit = Q3 + 1.5*IQR\n",
    "lower_limit,upper_limit"
   ]
  },
  {
   "cell_type": "code",
   "execution_count": 45,
   "id": "5cf09d46",
   "metadata": {},
   "outputs": [
    {
     "data": {
      "text/html": [
       "<div>\n",
       "<style scoped>\n",
       "    .dataframe tbody tr th:only-of-type {\n",
       "        vertical-align: middle;\n",
       "    }\n",
       "\n",
       "    .dataframe tbody tr th {\n",
       "        vertical-align: top;\n",
       "    }\n",
       "\n",
       "    .dataframe thead th {\n",
       "        text-align: right;\n",
       "    }\n",
       "</style>\n",
       "<table border=\"1\" class=\"dataframe\">\n",
       "  <thead>\n",
       "    <tr style=\"text-align: right;\">\n",
       "      <th></th>\n",
       "      <th>ID</th>\n",
       "      <th>Gender</th>\n",
       "      <th>car</th>\n",
       "      <th>property</th>\n",
       "      <th>Children_count</th>\n",
       "      <th>Income</th>\n",
       "      <th>Type_Income</th>\n",
       "      <th>Education_level</th>\n",
       "      <th>Marital_status</th>\n",
       "      <th>Dwelling</th>\n",
       "      <th>Birthday_count</th>\n",
       "      <th>Employment_length</th>\n",
       "      <th>mobile_phone</th>\n",
       "      <th>work_phone</th>\n",
       "      <th>phone</th>\n",
       "      <th>email_id</th>\n",
       "      <th>Family_Members</th>\n",
       "      <th>label</th>\n",
       "    </tr>\n",
       "  </thead>\n",
       "  <tbody>\n",
       "    <tr>\n",
       "      <th>0</th>\n",
       "      <td>5008827</td>\n",
       "      <td>1</td>\n",
       "      <td>1</td>\n",
       "      <td>1</td>\n",
       "      <td>0</td>\n",
       "      <td>180000.0</td>\n",
       "      <td>1</td>\n",
       "      <td>1</td>\n",
       "      <td>1</td>\n",
       "      <td>1</td>\n",
       "      <td>51.0</td>\n",
       "      <td>7.0</td>\n",
       "      <td>1</td>\n",
       "      <td>0</td>\n",
       "      <td>0</td>\n",
       "      <td>0</td>\n",
       "      <td>2</td>\n",
       "      <td>1</td>\n",
       "    </tr>\n",
       "    <tr>\n",
       "      <th>1</th>\n",
       "      <td>5009744</td>\n",
       "      <td>0</td>\n",
       "      <td>1</td>\n",
       "      <td>0</td>\n",
       "      <td>0</td>\n",
       "      <td>315000.0</td>\n",
       "      <td>0</td>\n",
       "      <td>1</td>\n",
       "      <td>1</td>\n",
       "      <td>1</td>\n",
       "      <td>37.0</td>\n",
       "      <td>2.0</td>\n",
       "      <td>1</td>\n",
       "      <td>1</td>\n",
       "      <td>1</td>\n",
       "      <td>0</td>\n",
       "      <td>2</td>\n",
       "      <td>1</td>\n",
       "    </tr>\n",
       "    <tr>\n",
       "      <th>2</th>\n",
       "      <td>5009746</td>\n",
       "      <td>0</td>\n",
       "      <td>1</td>\n",
       "      <td>0</td>\n",
       "      <td>0</td>\n",
       "      <td>315000.0</td>\n",
       "      <td>0</td>\n",
       "      <td>1</td>\n",
       "      <td>1</td>\n",
       "      <td>1</td>\n",
       "      <td>44.0</td>\n",
       "      <td>2.0</td>\n",
       "      <td>1</td>\n",
       "      <td>1</td>\n",
       "      <td>1</td>\n",
       "      <td>0</td>\n",
       "      <td>2</td>\n",
       "      <td>1</td>\n",
       "    </tr>\n",
       "  </tbody>\n",
       "</table>\n",
       "</div>"
      ],
      "text/plain": [
       "        ID  Gender  car  property  Children_count    Income  Type_Income  \\\n",
       "0  5008827       1    1         1               0  180000.0            1   \n",
       "1  5009744       0    1         0               0  315000.0            0   \n",
       "2  5009746       0    1         0               0  315000.0            0   \n",
       "\n",
       "   Education_level  Marital_status  Dwelling  Birthday_count  \\\n",
       "0                1               1         1            51.0   \n",
       "1                1               1         1            37.0   \n",
       "2                1               1         1            44.0   \n",
       "\n",
       "   Employment_length  mobile_phone  work_phone  phone  email_id  \\\n",
       "0                7.0             1           0      0         0   \n",
       "1                2.0             1           1      1         0   \n",
       "2                2.0             1           1      1         0   \n",
       "\n",
       "   Family_Members  label  \n",
       "0               2      1  \n",
       "1               2      1  \n",
       "2               2      1  "
      ]
     },
     "execution_count": 45,
     "metadata": {},
     "output_type": "execute_result"
    }
   ],
   "source": [
    "df1 = df[(df.Income>lower_limit)&(df.Income<upper_limit)]\n",
    "df1.head(3)"
   ]
  },
  {
   "cell_type": "code",
   "execution_count": 46,
   "id": "ad0adb5b",
   "metadata": {},
   "outputs": [
    {
     "data": {
      "text/plain": [
       "(1475, 18)"
      ]
     },
     "execution_count": 46,
     "metadata": {},
     "output_type": "execute_result"
    }
   ],
   "source": [
    "df1.shape"
   ]
  },
  {
   "cell_type": "code",
   "execution_count": 47,
   "id": "9ea21117",
   "metadata": {},
   "outputs": [
    {
     "data": {
      "image/png": "[encoded data removed]",
      "text/plain": [
       "<Figure size 300x300 with 1 Axes>"
      ]
     },
     "metadata": {},
     "output_type": "display_data"
    }
   ],
   "source": [
    "plt.figure(figsize=(3,3))\n",
    "plt.boxplot(df1[\"Income\"])\n",
    "plt.grid(True)\n",
    "plt.show()"
   ]
  },
  {
   "cell_type": "markdown",
   "id": "227c0f0d",
   "metadata": {},
   "source": [
    "#### Removing Outliers in Birthday_count"
   ]
  },
  {
   "cell_type": "code",
   "execution_count": 48,
   "id": "a413ccc6",
   "metadata": {},
   "outputs": [
    {
     "data": {
      "image/png": "[encoded data removed]",
      "text/plain": [
       "<Figure size 300x300 with 1 Axes>"
      ]
     },
     "metadata": {},
     "output_type": "display_data"
    }
   ],
   "source": [
    "plt.figure(figsize=(3,3))\n",
    "plt.boxplot(df1[\"Birthday_count\"])\n",
    "plt.grid(True)\n",
    "plt.show()"
   ]
  },
  {
   "cell_type": "markdown",
   "id": "06e0179d",
   "metadata": {},
   "source": [
    "#### Removing Outliers in Employment_length column"
   ]
  },
  {
   "cell_type": "code",
   "execution_count": 49,
   "id": "47c321ff",
   "metadata": {},
   "outputs": [
    {
     "data": {
      "image/png": "[encoded data removed]",
      "text/plain": [
       "<Figure size 300x300 with 1 Axes>"
      ]
     },
     "metadata": {},
     "output_type": "display_data"
    }
   ],
   "source": [
    "plt.figure(figsize=(3,3))\n",
    "plt.boxplot(df1['Employment_length'])\n",
    "plt.grid(True)\n",
    "plt.show()"
   ]
  },
  {
   "cell_type": "code",
   "execution_count": 50,
   "id": "b9a05790",
   "metadata": {},
   "outputs": [
    {
     "data": {
      "text/plain": [
       "(3.0, 9.0)"
      ]
     },
     "execution_count": 50,
     "metadata": {},
     "output_type": "execute_result"
    }
   ],
   "source": [
    "Q1 = df1.Employment_length.quantile(0.25)\n",
    "Q3 = df1.Employment_length.quantile(0.75)\n",
    "Q1,Q3"
   ]
  },
  {
   "cell_type": "code",
   "execution_count": 51,
   "id": "db103d0f",
   "metadata": {},
   "outputs": [
    {
     "data": {
      "text/plain": [
       "6.0"
      ]
     },
     "execution_count": 51,
     "metadata": {},
     "output_type": "execute_result"
    }
   ],
   "source": [
    "IQR = Q3-Q1\n",
    "IQR"
   ]
  },
  {
   "cell_type": "code",
   "execution_count": 52,
   "id": "ac41c806",
   "metadata": {},
   "outputs": [
    {
     "data": {
      "text/plain": [
       "(-6.0, 18.0)"
      ]
     },
     "execution_count": 52,
     "metadata": {},
     "output_type": "execute_result"
    }
   ],
   "source": [
    "lower_limit = Q1 - 1.5*IQR\n",
    "upper_limit = Q3 + 1.5*IQR\n",
    "lower_limit,upper_limit"
   ]
  },
  {
   "cell_type": "code",
   "execution_count": 53,
   "id": "3d17ac75",
   "metadata": {},
   "outputs": [
    {
     "data": {
      "text/html": [
       "<div>\n",
       "<style scoped>\n",
       "    .dataframe tbody tr th:only-of-type {\n",
       "        vertical-align: middle;\n",
       "    }\n",
       "\n",
       "    .dataframe tbody tr th {\n",
       "        vertical-align: top;\n",
       "    }\n",
       "\n",
       "    .dataframe thead th {\n",
       "        text-align: right;\n",
       "    }\n",
       "</style>\n",
       "<table border=\"1\" class=\"dataframe\">\n",
       "  <thead>\n",
       "    <tr style=\"text-align: right;\">\n",
       "      <th></th>\n",
       "      <th>ID</th>\n",
       "      <th>Gender</th>\n",
       "      <th>car</th>\n",
       "      <th>property</th>\n",
       "      <th>Children_count</th>\n",
       "      <th>Income</th>\n",
       "      <th>Type_Income</th>\n",
       "      <th>Education_level</th>\n",
       "      <th>Marital_status</th>\n",
       "      <th>Dwelling</th>\n",
       "      <th>Birthday_count</th>\n",
       "      <th>Employment_length</th>\n",
       "      <th>mobile_phone</th>\n",
       "      <th>work_phone</th>\n",
       "      <th>phone</th>\n",
       "      <th>email_id</th>\n",
       "      <th>Family_Members</th>\n",
       "      <th>label</th>\n",
       "    </tr>\n",
       "  </thead>\n",
       "  <tbody>\n",
       "    <tr>\n",
       "      <th>0</th>\n",
       "      <td>5008827</td>\n",
       "      <td>1</td>\n",
       "      <td>1</td>\n",
       "      <td>1</td>\n",
       "      <td>0</td>\n",
       "      <td>180000.0</td>\n",
       "      <td>1</td>\n",
       "      <td>1</td>\n",
       "      <td>1</td>\n",
       "      <td>1</td>\n",
       "      <td>51.0</td>\n",
       "      <td>7.0</td>\n",
       "      <td>1</td>\n",
       "      <td>0</td>\n",
       "      <td>0</td>\n",
       "      <td>0</td>\n",
       "      <td>2</td>\n",
       "      <td>1</td>\n",
       "    </tr>\n",
       "    <tr>\n",
       "      <th>1</th>\n",
       "      <td>5009744</td>\n",
       "      <td>0</td>\n",
       "      <td>1</td>\n",
       "      <td>0</td>\n",
       "      <td>0</td>\n",
       "      <td>315000.0</td>\n",
       "      <td>0</td>\n",
       "      <td>1</td>\n",
       "      <td>1</td>\n",
       "      <td>1</td>\n",
       "      <td>37.0</td>\n",
       "      <td>2.0</td>\n",
       "      <td>1</td>\n",
       "      <td>1</td>\n",
       "      <td>1</td>\n",
       "      <td>0</td>\n",
       "      <td>2</td>\n",
       "      <td>1</td>\n",
       "    </tr>\n",
       "    <tr>\n",
       "      <th>2</th>\n",
       "      <td>5009746</td>\n",
       "      <td>0</td>\n",
       "      <td>1</td>\n",
       "      <td>0</td>\n",
       "      <td>0</td>\n",
       "      <td>315000.0</td>\n",
       "      <td>0</td>\n",
       "      <td>1</td>\n",
       "      <td>1</td>\n",
       "      <td>1</td>\n",
       "      <td>44.0</td>\n",
       "      <td>2.0</td>\n",
       "      <td>1</td>\n",
       "      <td>1</td>\n",
       "      <td>1</td>\n",
       "      <td>0</td>\n",
       "      <td>2</td>\n",
       "      <td>1</td>\n",
       "    </tr>\n",
       "  </tbody>\n",
       "</table>\n",
       "</div>"
      ],
      "text/plain": [
       "        ID  Gender  car  property  Children_count    Income  Type_Income  \\\n",
       "0  5008827       1    1         1               0  180000.0            1   \n",
       "1  5009744       0    1         0               0  315000.0            0   \n",
       "2  5009746       0    1         0               0  315000.0            0   \n",
       "\n",
       "   Education_level  Marital_status  Dwelling  Birthday_count  \\\n",
       "0                1               1         1            51.0   \n",
       "1                1               1         1            37.0   \n",
       "2                1               1         1            44.0   \n",
       "\n",
       "   Employment_length  mobile_phone  work_phone  phone  email_id  \\\n",
       "0                7.0             1           0      0         0   \n",
       "1                2.0             1           1      1         0   \n",
       "2                2.0             1           1      1         0   \n",
       "\n",
       "   Family_Members  label  \n",
       "0               2      1  \n",
       "1               2      1  \n",
       "2               2      1  "
      ]
     },
     "execution_count": 53,
     "metadata": {},
     "output_type": "execute_result"
    }
   ],
   "source": [
    "df2 = df1[(df1['Employment_length']>lower_limit)&(df1['Employment_length']<upper_limit)]\n",
    "df2.head(3)"
   ]
  },
  {
   "cell_type": "code",
   "execution_count": 54,
   "id": "5d6b488b",
   "metadata": {},
   "outputs": [
    {
     "data": {
      "text/plain": [
       "(1363, 18)"
      ]
     },
     "execution_count": 54,
     "metadata": {},
     "output_type": "execute_result"
    }
   ],
   "source": [
    "df2.shape"
   ]
  },
  {
   "cell_type": "code",
   "execution_count": 55,
   "id": "948ab868",
   "metadata": {},
   "outputs": [
    {
     "data": {
      "image/png": "[encoded data removed]",
      "text/plain": [
       "<Figure size 300x300 with 1 Axes>"
      ]
     },
     "metadata": {},
     "output_type": "display_data"
    }
   ],
   "source": [
    "plt.figure(figsize=(3,3))\n",
    "plt.boxplot(df2['Employment_length'])\n",
    "plt.grid(True)\n",
    "plt.show()"
   ]
  },
  {
   "cell_type": "markdown",
   "id": "71af279b",
   "metadata": {},
   "source": [
    "# Part 2 : Machine Learning"
   ]
  },
  {
   "cell_type": "markdown",
   "id": "7c0658a5",
   "metadata": {},
   "source": [
    "### Train Test Split"
   ]
  },
  {
   "cell_type": "code",
   "execution_count": 56,
   "id": "f3509d8b",
   "metadata": {},
   "outputs": [],
   "source": [
    "# Splitting the features and targets\n",
    "x=df2.drop(columns=['label'],axis=1)\n",
    "y=df2['label']"
   ]
  },
  {
   "cell_type": "code",
   "execution_count": 57,
   "id": "c113b89d",
   "metadata": {},
   "outputs": [],
   "source": [
    "### Importing the dependencies\n",
    "from sklearn.model_selection import train_test_split\n",
    "from sklearn.model_selection import cross_val_score\n",
    "from sklearn.metrics import accuracy_score"
   ]
  },
  {
   "cell_type": "code",
   "execution_count": 58,
   "id": "bab62cf6",
   "metadata": {},
   "outputs": [],
   "source": [
    "x_train,x_test,y_train,y_test = train_test_split(x,y,test_size=0.2,random_state=3)"
   ]
  },
  {
   "cell_type": "code",
   "execution_count": 59,
   "id": "c10b11c0",
   "metadata": {},
   "outputs": [
    {
     "name": "stdout",
     "output_type": "stream",
     "text": [
      "(1363, 17) (1090, 17) (273, 17)\n"
     ]
    }
   ],
   "source": [
    "print(x.shape,x_train.shape,x_test.shape)"
   ]
  },
  {
   "cell_type": "markdown",
   "id": "bec0faaf",
   "metadata": {},
   "source": [
    "#### Accuracy Score\n",
    "- Comparing the performance of the models"
   ]
  },
  {
   "cell_type": "code",
   "execution_count": 60,
   "id": "3f22f224",
   "metadata": {},
   "outputs": [],
   "source": [
    "models = [LogisticRegression(max_iter=1000),DecisionTreeClassifier(),RandomForestClassifier(),KNeighborsClassifier()]"
   ]
  },
  {
   "cell_type": "code",
   "execution_count": 61,
   "id": "63f6890b",
   "metadata": {},
   "outputs": [],
   "source": [
    "def compare_models_train_test():\n",
    "    for model in models:\n",
    "        model.fit(x_train,y_train)\n",
    "        y_predicted = model.predict(x_test)\n",
    "        accuracy = accuracy_score(y_test,y_predicted)\n",
    "        print(\"Accuracy of the \",model,\"=\",accuracy)"
   ]
  },
  {
   "cell_type": "code",
   "execution_count": 62,
   "id": "009f5d10",
   "metadata": {},
   "outputs": [
    {
     "name": "stdout",
     "output_type": "stream",
     "text": [
      "Accuracy of the  LogisticRegression(max_iter=1000) = 0.8754578754578755\n",
      "Accuracy of the  DecisionTreeClassifier() = 0.8534798534798534\n",
      "Accuracy of the  RandomForestClassifier() = 0.9194139194139194\n",
      "Accuracy of the  KNeighborsClassifier() = 0.8681318681318682\n"
     ]
    }
   ],
   "source": [
    "compare_models_train_test()"
   ]
  },
  {
   "cell_type": "markdown",
   "id": "9947072f",
   "metadata": {},
   "source": [
    "### Cross Validation"
   ]
  },
  {
   "cell_type": "code",
   "execution_count": 63,
   "id": "12c2a474",
   "metadata": {},
   "outputs": [],
   "source": [
    "models = [LogisticRegression(max_iter=1000),DecisionTreeClassifier(),RandomForestClassifier(),KNeighborsClassifier()]"
   ]
  },
  {
   "cell_type": "code",
   "execution_count": 64,
   "id": "f0db1a93",
   "metadata": {},
   "outputs": [],
   "source": [
    "def compare_models_cv():\n",
    "    for model in models:\n",
    "        cv_score =cross_val_score(model,x,y,cv=5)\n",
    "        mean_accuracy = sum(cv_score)/len(cv_score)\n",
    "        mean_accuracy= mean_accuracy*100\n",
    "        mean_accuracy = round(mean_accuracy,2) \n",
    "        print(\"cv_score of the\",model,\"=\",cv_score)\n",
    "        print(\"mean_accuracy % of the\",model,\"=\",mean_accuracy,\"%\")"
   ]
  },
  {
   "cell_type": "code",
   "execution_count": 65,
   "id": "8b1d4408",
   "metadata": {},
   "outputs": [
    {
     "name": "stdout",
     "output_type": "stream",
     "text": [
      "cv_score of the LogisticRegression(max_iter=1000) = [0.89010989 0.89010989 0.89377289 0.89338235 0.89338235]\n",
      "mean_accuracy % of the LogisticRegression(max_iter=1000) = 89.22 %\n",
      "cv_score of the DecisionTreeClassifier() = [0.81318681 0.82417582 0.82783883 0.80147059 0.84558824]\n",
      "mean_accuracy % of the DecisionTreeClassifier() = 82.25 %\n",
      "cv_score of the RandomForestClassifier() = [0.89010989 0.88278388 0.88278388 0.88235294 0.88970588]\n",
      "mean_accuracy % of the RandomForestClassifier() = 88.55 %\n",
      "cv_score of the KNeighborsClassifier() = [0.86080586 0.86446886 0.84981685 0.87132353 0.86029412]\n",
      "mean_accuracy % of the KNeighborsClassifier() = 86.13 %\n"
     ]
    }
   ],
   "source": [
    "compare_models_cv()"
   ]
  },
  {
   "cell_type": "markdown",
   "id": "7fba1e5d",
   "metadata": {},
   "source": [
    "#### Model Comparison: \n",
    "- Accuracy_Score of the  LogisticRegression(max_iter=1000) = 87.5% , Accuracy_Score of the  DecisionTreeClassifier() = 85.3% ,Accuracy_Score of the  RandomForestClassifier() = 91.2% ,Accuracy_Score of the  KNeighborsClassifier() = 86.8%\n",
    "- Mean of Cross_val_score of LogisticRegression is 89.22 % , Mean of Cross_val_score of DecisionTreeClassifier is 82.17 % , Mean of Cross_val_score of RandomForestClassifier is 88.63 % , Mean of Cross_val_score of KNeighborsClassifier is 86.13 %\n",
    "- Here, I am choosing LogisticRegression model because it’s Cross Validation Score for training data was 89.22% %"
   ]
  },
  {
   "cell_type": "markdown",
   "id": "117a12c9",
   "metadata": {},
   "source": [
    "# Part 3 : SQL "
   ]
  },
  {
   "cell_type": "code",
   "execution_count": 66,
   "id": "49bf5984",
   "metadata": {},
   "outputs": [
    {
     "name": "stdout",
     "output_type": "stream",
     "text": [
      "Requirement already satisfied: duckdb in c:\\users\\shrut\\anaconda3\\lib\\site-packages (0.9.2)\n",
      "Note: you may need to restart the kernel to use updated packages.\n"
     ]
    }
   ],
   "source": [
    "pip install duckdb"
   ]
  },
  {
   "cell_type": "code",
   "execution_count": 67,
   "id": "14a4ca0b",
   "metadata": {},
   "outputs": [
    {
     "data": {
      "text/plain": [
       "<duckdb.duckdb.DuckDBPyConnection at 0x2498ef58cf0>"
      ]
     },
     "execution_count": 67,
     "metadata": {},
     "output_type": "execute_result"
    }
   ],
   "source": [
    "import duckdb\n",
    "conn =duckdb.connect()\n",
    "conn.register('df_sql',df_sql)"
   ]
  },
  {
   "cell_type": "code",
   "execution_count": 68,
   "id": "2458bc0c",
   "metadata": {},
   "outputs": [
    {
     "data": {
      "text/html": [
       "<div>\n",
       "<style scoped>\n",
       "    .dataframe tbody tr th:only-of-type {\n",
       "        vertical-align: middle;\n",
       "    }\n",
       "\n",
       "    .dataframe tbody tr th {\n",
       "        vertical-align: top;\n",
       "    }\n",
       "\n",
       "    .dataframe thead th {\n",
       "        text-align: right;\n",
       "    }\n",
       "</style>\n",
       "<table border=\"1\" class=\"dataframe\">\n",
       "  <thead>\n",
       "    <tr style=\"text-align: right;\">\n",
       "      <th></th>\n",
       "      <th>Ind_ID</th>\n",
       "      <th>GENDER</th>\n",
       "      <th>Car_Owner</th>\n",
       "      <th>Propert_Owner</th>\n",
       "      <th>CHILDREN</th>\n",
       "      <th>Annual_income</th>\n",
       "      <th>Type_Income</th>\n",
       "      <th>EDUCATION</th>\n",
       "      <th>Marital_status</th>\n",
       "      <th>Housing_type</th>\n",
       "      <th>Birthday_count</th>\n",
       "      <th>Employed_days</th>\n",
       "      <th>Mobile_phone</th>\n",
       "      <th>Work_Phone</th>\n",
       "      <th>Phone</th>\n",
       "      <th>EMAIL_ID</th>\n",
       "      <th>Type_Occupation</th>\n",
       "      <th>Family_Members</th>\n",
       "      <th>label</th>\n",
       "    </tr>\n",
       "  </thead>\n",
       "  <tbody>\n",
       "    <tr>\n",
       "      <th>0</th>\n",
       "      <td>5008827</td>\n",
       "      <td>M</td>\n",
       "      <td>Y</td>\n",
       "      <td>Y</td>\n",
       "      <td>0</td>\n",
       "      <td>180000.0</td>\n",
       "      <td>Pensioner</td>\n",
       "      <td>Higher education</td>\n",
       "      <td>Married</td>\n",
       "      <td>House / apartment</td>\n",
       "      <td>-18772.0</td>\n",
       "      <td>365243</td>\n",
       "      <td>1</td>\n",
       "      <td>0</td>\n",
       "      <td>0</td>\n",
       "      <td>0</td>\n",
       "      <td>None</td>\n",
       "      <td>2</td>\n",
       "      <td>1</td>\n",
       "    </tr>\n",
       "    <tr>\n",
       "      <th>1</th>\n",
       "      <td>5009744</td>\n",
       "      <td>F</td>\n",
       "      <td>Y</td>\n",
       "      <td>N</td>\n",
       "      <td>0</td>\n",
       "      <td>315000.0</td>\n",
       "      <td>Commercial associate</td>\n",
       "      <td>Higher education</td>\n",
       "      <td>Married</td>\n",
       "      <td>House / apartment</td>\n",
       "      <td>-13557.0</td>\n",
       "      <td>-586</td>\n",
       "      <td>1</td>\n",
       "      <td>1</td>\n",
       "      <td>1</td>\n",
       "      <td>0</td>\n",
       "      <td>None</td>\n",
       "      <td>2</td>\n",
       "      <td>1</td>\n",
       "    </tr>\n",
       "    <tr>\n",
       "      <th>2</th>\n",
       "      <td>5009746</td>\n",
       "      <td>F</td>\n",
       "      <td>Y</td>\n",
       "      <td>N</td>\n",
       "      <td>0</td>\n",
       "      <td>315000.0</td>\n",
       "      <td>Commercial associate</td>\n",
       "      <td>Higher education</td>\n",
       "      <td>Married</td>\n",
       "      <td>House / apartment</td>\n",
       "      <td>NaN</td>\n",
       "      <td>-586</td>\n",
       "      <td>1</td>\n",
       "      <td>1</td>\n",
       "      <td>1</td>\n",
       "      <td>0</td>\n",
       "      <td>None</td>\n",
       "      <td>2</td>\n",
       "      <td>1</td>\n",
       "    </tr>\n",
       "    <tr>\n",
       "      <th>3</th>\n",
       "      <td>5009749</td>\n",
       "      <td>F</td>\n",
       "      <td>Y</td>\n",
       "      <td>N</td>\n",
       "      <td>0</td>\n",
       "      <td>NaN</td>\n",
       "      <td>Commercial associate</td>\n",
       "      <td>Higher education</td>\n",
       "      <td>Married</td>\n",
       "      <td>House / apartment</td>\n",
       "      <td>-13557.0</td>\n",
       "      <td>-586</td>\n",
       "      <td>1</td>\n",
       "      <td>1</td>\n",
       "      <td>1</td>\n",
       "      <td>0</td>\n",
       "      <td>None</td>\n",
       "      <td>2</td>\n",
       "      <td>1</td>\n",
       "    </tr>\n",
       "    <tr>\n",
       "      <th>4</th>\n",
       "      <td>5009752</td>\n",
       "      <td>F</td>\n",
       "      <td>Y</td>\n",
       "      <td>N</td>\n",
       "      <td>0</td>\n",
       "      <td>315000.0</td>\n",
       "      <td>Commercial associate</td>\n",
       "      <td>Higher education</td>\n",
       "      <td>Married</td>\n",
       "      <td>House / apartment</td>\n",
       "      <td>-13557.0</td>\n",
       "      <td>-586</td>\n",
       "      <td>1</td>\n",
       "      <td>1</td>\n",
       "      <td>1</td>\n",
       "      <td>0</td>\n",
       "      <td>None</td>\n",
       "      <td>2</td>\n",
       "      <td>1</td>\n",
       "    </tr>\n",
       "    <tr>\n",
       "      <th>5</th>\n",
       "      <td>5009753</td>\n",
       "      <td>None</td>\n",
       "      <td>Y</td>\n",
       "      <td>N</td>\n",
       "      <td>0</td>\n",
       "      <td>315000.0</td>\n",
       "      <td>Pensioner</td>\n",
       "      <td>Higher education</td>\n",
       "      <td>Married</td>\n",
       "      <td>House / apartment</td>\n",
       "      <td>-13557.0</td>\n",
       "      <td>-586</td>\n",
       "      <td>1</td>\n",
       "      <td>1</td>\n",
       "      <td>1</td>\n",
       "      <td>0</td>\n",
       "      <td>None</td>\n",
       "      <td>2</td>\n",
       "      <td>1</td>\n",
       "    </tr>\n",
       "    <tr>\n",
       "      <th>6</th>\n",
       "      <td>5009754</td>\n",
       "      <td>F</td>\n",
       "      <td>Y</td>\n",
       "      <td>N</td>\n",
       "      <td>0</td>\n",
       "      <td>315000.0</td>\n",
       "      <td>Commercial associate</td>\n",
       "      <td>Higher education</td>\n",
       "      <td>Married</td>\n",
       "      <td>House / apartment</td>\n",
       "      <td>-13557.0</td>\n",
       "      <td>-586</td>\n",
       "      <td>1</td>\n",
       "      <td>1</td>\n",
       "      <td>1</td>\n",
       "      <td>0</td>\n",
       "      <td>None</td>\n",
       "      <td>2</td>\n",
       "      <td>1</td>\n",
       "    </tr>\n",
       "    <tr>\n",
       "      <th>7</th>\n",
       "      <td>5009894</td>\n",
       "      <td>F</td>\n",
       "      <td>N</td>\n",
       "      <td>N</td>\n",
       "      <td>0</td>\n",
       "      <td>180000.0</td>\n",
       "      <td>Pensioner</td>\n",
       "      <td>Secondary / secondary special</td>\n",
       "      <td>Married</td>\n",
       "      <td>House / apartment</td>\n",
       "      <td>-22134.0</td>\n",
       "      <td>365243</td>\n",
       "      <td>1</td>\n",
       "      <td>0</td>\n",
       "      <td>0</td>\n",
       "      <td>0</td>\n",
       "      <td>None</td>\n",
       "      <td>2</td>\n",
       "      <td>1</td>\n",
       "    </tr>\n",
       "    <tr>\n",
       "      <th>8</th>\n",
       "      <td>5010864</td>\n",
       "      <td>M</td>\n",
       "      <td>Y</td>\n",
       "      <td>Y</td>\n",
       "      <td>1</td>\n",
       "      <td>450000.0</td>\n",
       "      <td>Commercial associate</td>\n",
       "      <td>Secondary / secondary special</td>\n",
       "      <td>Married</td>\n",
       "      <td>House / apartment</td>\n",
       "      <td>-18173.0</td>\n",
       "      <td>-678</td>\n",
       "      <td>1</td>\n",
       "      <td>0</td>\n",
       "      <td>1</td>\n",
       "      <td>1</td>\n",
       "      <td>Core staff</td>\n",
       "      <td>3</td>\n",
       "      <td>1</td>\n",
       "    </tr>\n",
       "    <tr>\n",
       "      <th>9</th>\n",
       "      <td>5010868</td>\n",
       "      <td>M</td>\n",
       "      <td>Y</td>\n",
       "      <td>Y</td>\n",
       "      <td>1</td>\n",
       "      <td>450000.0</td>\n",
       "      <td>Pensioner</td>\n",
       "      <td>Secondary / secondary special</td>\n",
       "      <td>Married</td>\n",
       "      <td>House / apartment</td>\n",
       "      <td>-18173.0</td>\n",
       "      <td>-678</td>\n",
       "      <td>1</td>\n",
       "      <td>0</td>\n",
       "      <td>1</td>\n",
       "      <td>1</td>\n",
       "      <td>Core staff</td>\n",
       "      <td>3</td>\n",
       "      <td>1</td>\n",
       "    </tr>\n",
       "  </tbody>\n",
       "</table>\n",
       "</div>"
      ],
      "text/plain": [
       "    Ind_ID GENDER Car_Owner Propert_Owner  CHILDREN  Annual_income  \\\n",
       "0  5008827      M         Y             Y         0       180000.0   \n",
       "1  5009744      F         Y             N         0       315000.0   \n",
       "2  5009746      F         Y             N         0       315000.0   \n",
       "3  5009749      F         Y             N         0            NaN   \n",
       "4  5009752      F         Y             N         0       315000.0   \n",
       "5  5009753   None         Y             N         0       315000.0   \n",
       "6  5009754      F         Y             N         0       315000.0   \n",
       "7  5009894      F         N             N         0       180000.0   \n",
       "8  5010864      M         Y             Y         1       450000.0   \n",
       "9  5010868      M         Y             Y         1       450000.0   \n",
       "\n",
       "            Type_Income                      EDUCATION Marital_status  \\\n",
       "0             Pensioner               Higher education        Married   \n",
       "1  Commercial associate               Higher education        Married   \n",
       "2  Commercial associate               Higher education        Married   \n",
       "3  Commercial associate               Higher education        Married   \n",
       "4  Commercial associate               Higher education        Married   \n",
       "5             Pensioner               Higher education        Married   \n",
       "6  Commercial associate               Higher education        Married   \n",
       "7             Pensioner  Secondary / secondary special        Married   \n",
       "8  Commercial associate  Secondary / secondary special        Married   \n",
       "9             Pensioner  Secondary / secondary special        Married   \n",
       "\n",
       "        Housing_type  Birthday_count  Employed_days  Mobile_phone  Work_Phone  \\\n",
       "0  House / apartment        -18772.0         365243             1           0   \n",
       "1  House / apartment        -13557.0           -586             1           1   \n",
       "2  House / apartment             NaN           -586             1           1   \n",
       "3  House / apartment        -13557.0           -586             1           1   \n",
       "4  House / apartment        -13557.0           -586             1           1   \n",
       "5  House / apartment        -13557.0           -586             1           1   \n",
       "6  House / apartment        -13557.0           -586             1           1   \n",
       "7  House / apartment        -22134.0         365243             1           0   \n",
       "8  House / apartment        -18173.0           -678             1           0   \n",
       "9  House / apartment        -18173.0           -678             1           0   \n",
       "\n",
       "   Phone  EMAIL_ID Type_Occupation  Family_Members  label  \n",
       "0      0         0            None               2      1  \n",
       "1      1         0            None               2      1  \n",
       "2      1         0            None               2      1  \n",
       "3      1         0            None               2      1  \n",
       "4      1         0            None               2      1  \n",
       "5      1         0            None               2      1  \n",
       "6      1         0            None               2      1  \n",
       "7      0         0            None               2      1  \n",
       "8      1         1      Core staff               3      1  \n",
       "9      1         1      Core staff               3      1  "
      ]
     },
     "execution_count": 68,
     "metadata": {},
     "output_type": "execute_result"
    }
   ],
   "source": [
    "conn.execute(\"SELECT * from df_sql;\").fetchdf().head(10)"
   ]
  },
  {
   "cell_type": "markdown",
   "id": "ed386ab6",
   "metadata": {},
   "source": [
    "#### 1. Group the customers based on their income type and find the average of their annual income."
   ]
  },
  {
   "cell_type": "code",
   "execution_count": 69,
   "id": "189e93fb",
   "metadata": {},
   "outputs": [
    {
     "data": {
      "text/html": [
       "<div>\n",
       "<style scoped>\n",
       "    .dataframe tbody tr th:only-of-type {\n",
       "        vertical-align: middle;\n",
       "    }\n",
       "\n",
       "    .dataframe tbody tr th {\n",
       "        vertical-align: top;\n",
       "    }\n",
       "\n",
       "    .dataframe thead th {\n",
       "        text-align: right;\n",
       "    }\n",
       "</style>\n",
       "<table border=\"1\" class=\"dataframe\">\n",
       "  <thead>\n",
       "    <tr style=\"text-align: right;\">\n",
       "      <th></th>\n",
       "      <th>Type_Income</th>\n",
       "      <th>avg_income</th>\n",
       "    </tr>\n",
       "  </thead>\n",
       "  <tbody>\n",
       "    <tr>\n",
       "      <th>0</th>\n",
       "      <td>Pensioner</td>\n",
       "      <td>155175.096226</td>\n",
       "    </tr>\n",
       "    <tr>\n",
       "      <th>1</th>\n",
       "      <td>Working</td>\n",
       "      <td>181048.757306</td>\n",
       "    </tr>\n",
       "    <tr>\n",
       "      <th>2</th>\n",
       "      <td>State servant</td>\n",
       "      <td>211422.413793</td>\n",
       "    </tr>\n",
       "    <tr>\n",
       "      <th>3</th>\n",
       "      <td>Commercial associate</td>\n",
       "      <td>234600.000000</td>\n",
       "    </tr>\n",
       "  </tbody>\n",
       "</table>\n",
       "</div>"
      ],
      "text/plain": [
       "            Type_Income     avg_income\n",
       "0             Pensioner  155175.096226\n",
       "1               Working  181048.757306\n",
       "2         State servant  211422.413793\n",
       "3  Commercial associate  234600.000000"
      ]
     },
     "execution_count": 69,
     "metadata": {},
     "output_type": "execute_result"
    }
   ],
   "source": [
    "conn.execute(\"SELECT Type_Income, AVG(Annual_income) as avg_income FROM df_sql GROUP BY Type_Income;\").fetchdf()"
   ]
  },
  {
   "cell_type": "markdown",
   "id": "1a80ea54",
   "metadata": {},
   "source": [
    "#### 2. Find the female owners of cars and property."
   ]
  },
  {
   "cell_type": "code",
   "execution_count": 70,
   "id": "e572c08b",
   "metadata": {},
   "outputs": [
    {
     "data": {
      "text/html": [
       "<div>\n",
       "<style scoped>\n",
       "    .dataframe tbody tr th:only-of-type {\n",
       "        vertical-align: middle;\n",
       "    }\n",
       "\n",
       "    .dataframe tbody tr th {\n",
       "        vertical-align: top;\n",
       "    }\n",
       "\n",
       "    .dataframe thead th {\n",
       "        text-align: right;\n",
       "    }\n",
       "</style>\n",
       "<table border=\"1\" class=\"dataframe\">\n",
       "  <thead>\n",
       "    <tr style=\"text-align: right;\">\n",
       "      <th></th>\n",
       "      <th>Ind_ID</th>\n",
       "      <th>GENDER</th>\n",
       "      <th>Car_Owner</th>\n",
       "      <th>Propert_Owner</th>\n",
       "      <th>CHILDREN</th>\n",
       "      <th>Annual_income</th>\n",
       "      <th>Type_Income</th>\n",
       "      <th>EDUCATION</th>\n",
       "      <th>Marital_status</th>\n",
       "      <th>Housing_type</th>\n",
       "      <th>Birthday_count</th>\n",
       "      <th>Employed_days</th>\n",
       "      <th>Mobile_phone</th>\n",
       "      <th>Work_Phone</th>\n",
       "      <th>Phone</th>\n",
       "      <th>EMAIL_ID</th>\n",
       "      <th>Type_Occupation</th>\n",
       "      <th>Family_Members</th>\n",
       "      <th>label</th>\n",
       "    </tr>\n",
       "  </thead>\n",
       "  <tbody>\n",
       "    <tr>\n",
       "      <th>0</th>\n",
       "      <td>5018498</td>\n",
       "      <td>F</td>\n",
       "      <td>Y</td>\n",
       "      <td>Y</td>\n",
       "      <td>0</td>\n",
       "      <td>90000.0</td>\n",
       "      <td>Working</td>\n",
       "      <td>Secondary / secondary special</td>\n",
       "      <td>Married</td>\n",
       "      <td>House / apartment</td>\n",
       "      <td>-18950.0</td>\n",
       "      <td>-1002</td>\n",
       "      <td>1</td>\n",
       "      <td>1</td>\n",
       "      <td>1</td>\n",
       "      <td>0</td>\n",
       "      <td>Cooking staff</td>\n",
       "      <td>2</td>\n",
       "      <td>1</td>\n",
       "    </tr>\n",
       "    <tr>\n",
       "      <th>1</th>\n",
       "      <td>5018501</td>\n",
       "      <td>F</td>\n",
       "      <td>Y</td>\n",
       "      <td>Y</td>\n",
       "      <td>0</td>\n",
       "      <td>NaN</td>\n",
       "      <td>Working</td>\n",
       "      <td>Secondary / secondary special</td>\n",
       "      <td>Married</td>\n",
       "      <td>House / apartment</td>\n",
       "      <td>-18950.0</td>\n",
       "      <td>-1002</td>\n",
       "      <td>1</td>\n",
       "      <td>1</td>\n",
       "      <td>1</td>\n",
       "      <td>0</td>\n",
       "      <td>Cooking staff</td>\n",
       "      <td>2</td>\n",
       "      <td>1</td>\n",
       "    </tr>\n",
       "    <tr>\n",
       "      <th>2</th>\n",
       "      <td>5018503</td>\n",
       "      <td>F</td>\n",
       "      <td>Y</td>\n",
       "      <td>Y</td>\n",
       "      <td>0</td>\n",
       "      <td>90000.0</td>\n",
       "      <td>Working</td>\n",
       "      <td>Secondary / secondary special</td>\n",
       "      <td>Married</td>\n",
       "      <td>House / apartment</td>\n",
       "      <td>-18950.0</td>\n",
       "      <td>-1002</td>\n",
       "      <td>1</td>\n",
       "      <td>1</td>\n",
       "      <td>1</td>\n",
       "      <td>0</td>\n",
       "      <td>Cooking staff</td>\n",
       "      <td>2</td>\n",
       "      <td>1</td>\n",
       "    </tr>\n",
       "    <tr>\n",
       "      <th>3</th>\n",
       "      <td>5024213</td>\n",
       "      <td>F</td>\n",
       "      <td>Y</td>\n",
       "      <td>Y</td>\n",
       "      <td>0</td>\n",
       "      <td>540000.0</td>\n",
       "      <td>Commercial associate</td>\n",
       "      <td>Higher education</td>\n",
       "      <td>Married</td>\n",
       "      <td>House / apartment</td>\n",
       "      <td>-15702.0</td>\n",
       "      <td>-185</td>\n",
       "      <td>1</td>\n",
       "      <td>0</td>\n",
       "      <td>1</td>\n",
       "      <td>0</td>\n",
       "      <td>None</td>\n",
       "      <td>2</td>\n",
       "      <td>1</td>\n",
       "    </tr>\n",
       "    <tr>\n",
       "      <th>4</th>\n",
       "      <td>5036660</td>\n",
       "      <td>F</td>\n",
       "      <td>Y</td>\n",
       "      <td>Y</td>\n",
       "      <td>0</td>\n",
       "      <td>76500.0</td>\n",
       "      <td>Pensioner</td>\n",
       "      <td>Secondary / secondary special</td>\n",
       "      <td>Married</td>\n",
       "      <td>House / apartment</td>\n",
       "      <td>-23835.0</td>\n",
       "      <td>365243</td>\n",
       "      <td>1</td>\n",
       "      <td>0</td>\n",
       "      <td>0</td>\n",
       "      <td>0</td>\n",
       "      <td>None</td>\n",
       "      <td>2</td>\n",
       "      <td>1</td>\n",
       "    </tr>\n",
       "    <tr>\n",
       "      <th>...</th>\n",
       "      <td>...</td>\n",
       "      <td>...</td>\n",
       "      <td>...</td>\n",
       "      <td>...</td>\n",
       "      <td>...</td>\n",
       "      <td>...</td>\n",
       "      <td>...</td>\n",
       "      <td>...</td>\n",
       "      <td>...</td>\n",
       "      <td>...</td>\n",
       "      <td>...</td>\n",
       "      <td>...</td>\n",
       "      <td>...</td>\n",
       "      <td>...</td>\n",
       "      <td>...</td>\n",
       "      <td>...</td>\n",
       "      <td>...</td>\n",
       "      <td>...</td>\n",
       "      <td>...</td>\n",
       "    </tr>\n",
       "    <tr>\n",
       "      <th>172</th>\n",
       "      <td>5048458</td>\n",
       "      <td>F</td>\n",
       "      <td>Y</td>\n",
       "      <td>Y</td>\n",
       "      <td>1</td>\n",
       "      <td>126000.0</td>\n",
       "      <td>Working</td>\n",
       "      <td>Higher education</td>\n",
       "      <td>Married</td>\n",
       "      <td>House / apartment</td>\n",
       "      <td>-9441.0</td>\n",
       "      <td>-157</td>\n",
       "      <td>1</td>\n",
       "      <td>0</td>\n",
       "      <td>0</td>\n",
       "      <td>0</td>\n",
       "      <td>None</td>\n",
       "      <td>3</td>\n",
       "      <td>0</td>\n",
       "    </tr>\n",
       "    <tr>\n",
       "      <th>173</th>\n",
       "      <td>5023719</td>\n",
       "      <td>F</td>\n",
       "      <td>Y</td>\n",
       "      <td>Y</td>\n",
       "      <td>0</td>\n",
       "      <td>175500.0</td>\n",
       "      <td>Pensioner</td>\n",
       "      <td>Higher education</td>\n",
       "      <td>Married</td>\n",
       "      <td>House / apartment</td>\n",
       "      <td>-22077.0</td>\n",
       "      <td>365243</td>\n",
       "      <td>1</td>\n",
       "      <td>0</td>\n",
       "      <td>1</td>\n",
       "      <td>0</td>\n",
       "      <td>None</td>\n",
       "      <td>2</td>\n",
       "      <td>0</td>\n",
       "    </tr>\n",
       "    <tr>\n",
       "      <th>174</th>\n",
       "      <td>5033520</td>\n",
       "      <td>F</td>\n",
       "      <td>Y</td>\n",
       "      <td>Y</td>\n",
       "      <td>3</td>\n",
       "      <td>180000.0</td>\n",
       "      <td>Working</td>\n",
       "      <td>Secondary / secondary special</td>\n",
       "      <td>Married</td>\n",
       "      <td>Municipal apartment</td>\n",
       "      <td>-12559.0</td>\n",
       "      <td>-5862</td>\n",
       "      <td>1</td>\n",
       "      <td>0</td>\n",
       "      <td>1</td>\n",
       "      <td>0</td>\n",
       "      <td>Medicine staff</td>\n",
       "      <td>5</td>\n",
       "      <td>0</td>\n",
       "    </tr>\n",
       "    <tr>\n",
       "      <th>175</th>\n",
       "      <td>5024049</td>\n",
       "      <td>F</td>\n",
       "      <td>Y</td>\n",
       "      <td>Y</td>\n",
       "      <td>1</td>\n",
       "      <td>144000.0</td>\n",
       "      <td>Working</td>\n",
       "      <td>Higher education</td>\n",
       "      <td>Married</td>\n",
       "      <td>House / apartment</td>\n",
       "      <td>-12903.0</td>\n",
       "      <td>-2924</td>\n",
       "      <td>1</td>\n",
       "      <td>0</td>\n",
       "      <td>0</td>\n",
       "      <td>0</td>\n",
       "      <td>Accountants</td>\n",
       "      <td>3</td>\n",
       "      <td>0</td>\n",
       "    </tr>\n",
       "    <tr>\n",
       "      <th>176</th>\n",
       "      <td>5053790</td>\n",
       "      <td>F</td>\n",
       "      <td>Y</td>\n",
       "      <td>Y</td>\n",
       "      <td>0</td>\n",
       "      <td>225000.0</td>\n",
       "      <td>Working</td>\n",
       "      <td>Higher education</td>\n",
       "      <td>Married</td>\n",
       "      <td>House / apartment</td>\n",
       "      <td>-16601.0</td>\n",
       "      <td>-2859</td>\n",
       "      <td>1</td>\n",
       "      <td>0</td>\n",
       "      <td>0</td>\n",
       "      <td>0</td>\n",
       "      <td>None</td>\n",
       "      <td>2</td>\n",
       "      <td>0</td>\n",
       "    </tr>\n",
       "  </tbody>\n",
       "</table>\n",
       "<p>177 rows × 19 columns</p>\n",
       "</div>"
      ],
      "text/plain": [
       "      Ind_ID GENDER Car_Owner Propert_Owner  CHILDREN  Annual_income  \\\n",
       "0    5018498      F         Y             Y         0        90000.0   \n",
       "1    5018501      F         Y             Y         0            NaN   \n",
       "2    5018503      F         Y             Y         0        90000.0   \n",
       "3    5024213      F         Y             Y         0       540000.0   \n",
       "4    5036660      F         Y             Y         0        76500.0   \n",
       "..       ...    ...       ...           ...       ...            ...   \n",
       "172  5048458      F         Y             Y         1       126000.0   \n",
       "173  5023719      F         Y             Y         0       175500.0   \n",
       "174  5033520      F         Y             Y         3       180000.0   \n",
       "175  5024049      F         Y             Y         1       144000.0   \n",
       "176  5053790      F         Y             Y         0       225000.0   \n",
       "\n",
       "              Type_Income                      EDUCATION Marital_status  \\\n",
       "0                 Working  Secondary / secondary special        Married   \n",
       "1                 Working  Secondary / secondary special        Married   \n",
       "2                 Working  Secondary / secondary special        Married   \n",
       "3    Commercial associate               Higher education        Married   \n",
       "4               Pensioner  Secondary / secondary special        Married   \n",
       "..                    ...                            ...            ...   \n",
       "172               Working               Higher education        Married   \n",
       "173             Pensioner               Higher education        Married   \n",
       "174               Working  Secondary / secondary special        Married   \n",
       "175               Working               Higher education        Married   \n",
       "176               Working               Higher education        Married   \n",
       "\n",
       "            Housing_type  Birthday_count  Employed_days  Mobile_phone  \\\n",
       "0      House / apartment        -18950.0          -1002             1   \n",
       "1      House / apartment        -18950.0          -1002             1   \n",
       "2      House / apartment        -18950.0          -1002             1   \n",
       "3      House / apartment        -15702.0           -185             1   \n",
       "4      House / apartment        -23835.0         365243             1   \n",
       "..                   ...             ...            ...           ...   \n",
       "172    House / apartment         -9441.0           -157             1   \n",
       "173    House / apartment        -22077.0         365243             1   \n",
       "174  Municipal apartment        -12559.0          -5862             1   \n",
       "175    House / apartment        -12903.0          -2924             1   \n",
       "176    House / apartment        -16601.0          -2859             1   \n",
       "\n",
       "     Work_Phone  Phone  EMAIL_ID Type_Occupation  Family_Members  label  \n",
       "0             1      1         0   Cooking staff               2      1  \n",
       "1             1      1         0   Cooking staff               2      1  \n",
       "2             1      1         0   Cooking staff               2      1  \n",
       "3             0      1         0            None               2      1  \n",
       "4             0      0         0            None               2      1  \n",
       "..          ...    ...       ...             ...             ...    ...  \n",
       "172           0      0         0            None               3      0  \n",
       "173           0      1         0            None               2      0  \n",
       "174           0      1         0  Medicine staff               5      0  \n",
       "175           0      0         0     Accountants               3      0  \n",
       "176           0      0         0            None               2      0  \n",
       "\n",
       "[177 rows x 19 columns]"
      ]
     },
     "execution_count": 70,
     "metadata": {},
     "output_type": "execute_result"
    }
   ],
   "source": [
    "conn.execute(\"SELECT * FROM df_sql WHERE GENDER = 'F' AND Car_Owner = 'Y' AND Propert_Owner = 'Y';\").fetchdf()"
   ]
  },
  {
   "cell_type": "markdown",
   "id": "0363d8a3",
   "metadata": {},
   "source": [
    "#### 3. Find the male customers who are staying with their families."
   ]
  },
  {
   "cell_type": "code",
   "execution_count": 71,
   "id": "b362580f",
   "metadata": {},
   "outputs": [
    {
     "data": {
      "text/html": [
       "<div>\n",
       "<style scoped>\n",
       "    .dataframe tbody tr th:only-of-type {\n",
       "        vertical-align: middle;\n",
       "    }\n",
       "\n",
       "    .dataframe tbody tr th {\n",
       "        vertical-align: top;\n",
       "    }\n",
       "\n",
       "    .dataframe thead th {\n",
       "        text-align: right;\n",
       "    }\n",
       "</style>\n",
       "<table border=\"1\" class=\"dataframe\">\n",
       "  <thead>\n",
       "    <tr style=\"text-align: right;\">\n",
       "      <th></th>\n",
       "      <th>Ind_ID</th>\n",
       "      <th>GENDER</th>\n",
       "      <th>Car_Owner</th>\n",
       "      <th>Propert_Owner</th>\n",
       "      <th>CHILDREN</th>\n",
       "      <th>Annual_income</th>\n",
       "      <th>Type_Income</th>\n",
       "      <th>EDUCATION</th>\n",
       "      <th>Marital_status</th>\n",
       "      <th>Housing_type</th>\n",
       "      <th>Birthday_count</th>\n",
       "      <th>Employed_days</th>\n",
       "      <th>Mobile_phone</th>\n",
       "      <th>Work_Phone</th>\n",
       "      <th>Phone</th>\n",
       "      <th>EMAIL_ID</th>\n",
       "      <th>Type_Occupation</th>\n",
       "      <th>Family_Members</th>\n",
       "      <th>label</th>\n",
       "    </tr>\n",
       "  </thead>\n",
       "  <tbody>\n",
       "    <tr>\n",
       "      <th>0</th>\n",
       "      <td>5008827</td>\n",
       "      <td>M</td>\n",
       "      <td>Y</td>\n",
       "      <td>Y</td>\n",
       "      <td>0</td>\n",
       "      <td>180000.0</td>\n",
       "      <td>Pensioner</td>\n",
       "      <td>Higher education</td>\n",
       "      <td>Married</td>\n",
       "      <td>House / apartment</td>\n",
       "      <td>-18772.0</td>\n",
       "      <td>365243</td>\n",
       "      <td>1</td>\n",
       "      <td>0</td>\n",
       "      <td>0</td>\n",
       "      <td>0</td>\n",
       "      <td>None</td>\n",
       "      <td>2</td>\n",
       "      <td>1</td>\n",
       "    </tr>\n",
       "    <tr>\n",
       "      <th>1</th>\n",
       "      <td>5010864</td>\n",
       "      <td>M</td>\n",
       "      <td>Y</td>\n",
       "      <td>Y</td>\n",
       "      <td>1</td>\n",
       "      <td>450000.0</td>\n",
       "      <td>Commercial associate</td>\n",
       "      <td>Secondary / secondary special</td>\n",
       "      <td>Married</td>\n",
       "      <td>House / apartment</td>\n",
       "      <td>-18173.0</td>\n",
       "      <td>-678</td>\n",
       "      <td>1</td>\n",
       "      <td>0</td>\n",
       "      <td>1</td>\n",
       "      <td>1</td>\n",
       "      <td>Core staff</td>\n",
       "      <td>3</td>\n",
       "      <td>1</td>\n",
       "    </tr>\n",
       "    <tr>\n",
       "      <th>2</th>\n",
       "      <td>5010868</td>\n",
       "      <td>M</td>\n",
       "      <td>Y</td>\n",
       "      <td>Y</td>\n",
       "      <td>1</td>\n",
       "      <td>450000.0</td>\n",
       "      <td>Pensioner</td>\n",
       "      <td>Secondary / secondary special</td>\n",
       "      <td>Married</td>\n",
       "      <td>House / apartment</td>\n",
       "      <td>-18173.0</td>\n",
       "      <td>-678</td>\n",
       "      <td>1</td>\n",
       "      <td>0</td>\n",
       "      <td>1</td>\n",
       "      <td>1</td>\n",
       "      <td>Core staff</td>\n",
       "      <td>3</td>\n",
       "      <td>1</td>\n",
       "    </tr>\n",
       "    <tr>\n",
       "      <th>3</th>\n",
       "      <td>5021303</td>\n",
       "      <td>M</td>\n",
       "      <td>N</td>\n",
       "      <td>N</td>\n",
       "      <td>1</td>\n",
       "      <td>472500.0</td>\n",
       "      <td>Pensioner</td>\n",
       "      <td>Higher education</td>\n",
       "      <td>Married</td>\n",
       "      <td>With parents</td>\n",
       "      <td>-8907.0</td>\n",
       "      <td>-913</td>\n",
       "      <td>1</td>\n",
       "      <td>0</td>\n",
       "      <td>0</td>\n",
       "      <td>1</td>\n",
       "      <td>None</td>\n",
       "      <td>3</td>\n",
       "      <td>1</td>\n",
       "    </tr>\n",
       "    <tr>\n",
       "      <th>4</th>\n",
       "      <td>5021310</td>\n",
       "      <td>M</td>\n",
       "      <td>N</td>\n",
       "      <td>Y</td>\n",
       "      <td>0</td>\n",
       "      <td>270000.0</td>\n",
       "      <td>Working</td>\n",
       "      <td>Secondary / secondary special</td>\n",
       "      <td>Married</td>\n",
       "      <td>House / apartment</td>\n",
       "      <td>-16896.0</td>\n",
       "      <td>-248</td>\n",
       "      <td>1</td>\n",
       "      <td>0</td>\n",
       "      <td>0</td>\n",
       "      <td>0</td>\n",
       "      <td>Laborers</td>\n",
       "      <td>2</td>\n",
       "      <td>1</td>\n",
       "    </tr>\n",
       "    <tr>\n",
       "      <th>...</th>\n",
       "      <td>...</td>\n",
       "      <td>...</td>\n",
       "      <td>...</td>\n",
       "      <td>...</td>\n",
       "      <td>...</td>\n",
       "      <td>...</td>\n",
       "      <td>...</td>\n",
       "      <td>...</td>\n",
       "      <td>...</td>\n",
       "      <td>...</td>\n",
       "      <td>...</td>\n",
       "      <td>...</td>\n",
       "      <td>...</td>\n",
       "      <td>...</td>\n",
       "      <td>...</td>\n",
       "      <td>...</td>\n",
       "      <td>...</td>\n",
       "      <td>...</td>\n",
       "      <td>...</td>\n",
       "    </tr>\n",
       "    <tr>\n",
       "      <th>465</th>\n",
       "      <td>5096856</td>\n",
       "      <td>M</td>\n",
       "      <td>Y</td>\n",
       "      <td>Y</td>\n",
       "      <td>0</td>\n",
       "      <td>180000.0</td>\n",
       "      <td>Commercial associate</td>\n",
       "      <td>Secondary / secondary special</td>\n",
       "      <td>Married</td>\n",
       "      <td>House / apartment</td>\n",
       "      <td>-17975.0</td>\n",
       "      <td>-3476</td>\n",
       "      <td>1</td>\n",
       "      <td>0</td>\n",
       "      <td>0</td>\n",
       "      <td>0</td>\n",
       "      <td>Drivers</td>\n",
       "      <td>2</td>\n",
       "      <td>0</td>\n",
       "    </tr>\n",
       "    <tr>\n",
       "      <th>466</th>\n",
       "      <td>5090942</td>\n",
       "      <td>M</td>\n",
       "      <td>N</td>\n",
       "      <td>N</td>\n",
       "      <td>0</td>\n",
       "      <td>225000.0</td>\n",
       "      <td>Commercial associate</td>\n",
       "      <td>Secondary / secondary special</td>\n",
       "      <td>Married</td>\n",
       "      <td>House / apartment</td>\n",
       "      <td>-13336.0</td>\n",
       "      <td>-1436</td>\n",
       "      <td>1</td>\n",
       "      <td>0</td>\n",
       "      <td>0</td>\n",
       "      <td>0</td>\n",
       "      <td>Low-skill Laborers</td>\n",
       "      <td>2</td>\n",
       "      <td>0</td>\n",
       "    </tr>\n",
       "    <tr>\n",
       "      <th>467</th>\n",
       "      <td>5118268</td>\n",
       "      <td>M</td>\n",
       "      <td>Y</td>\n",
       "      <td>N</td>\n",
       "      <td>1</td>\n",
       "      <td>360000.0</td>\n",
       "      <td>State servant</td>\n",
       "      <td>Secondary / secondary special</td>\n",
       "      <td>Married</td>\n",
       "      <td>House / apartment</td>\n",
       "      <td>-11294.0</td>\n",
       "      <td>-3536</td>\n",
       "      <td>1</td>\n",
       "      <td>0</td>\n",
       "      <td>1</td>\n",
       "      <td>0</td>\n",
       "      <td>Drivers</td>\n",
       "      <td>3</td>\n",
       "      <td>0</td>\n",
       "    </tr>\n",
       "    <tr>\n",
       "      <th>468</th>\n",
       "      <td>5115992</td>\n",
       "      <td>M</td>\n",
       "      <td>Y</td>\n",
       "      <td>Y</td>\n",
       "      <td>2</td>\n",
       "      <td>180000.0</td>\n",
       "      <td>Working</td>\n",
       "      <td>Higher education</td>\n",
       "      <td>Married</td>\n",
       "      <td>House / apartment</td>\n",
       "      <td>-13174.0</td>\n",
       "      <td>-2477</td>\n",
       "      <td>1</td>\n",
       "      <td>0</td>\n",
       "      <td>0</td>\n",
       "      <td>0</td>\n",
       "      <td>Managers</td>\n",
       "      <td>4</td>\n",
       "      <td>0</td>\n",
       "    </tr>\n",
       "    <tr>\n",
       "      <th>469</th>\n",
       "      <td>5118219</td>\n",
       "      <td>M</td>\n",
       "      <td>Y</td>\n",
       "      <td>N</td>\n",
       "      <td>0</td>\n",
       "      <td>270000.0</td>\n",
       "      <td>Working</td>\n",
       "      <td>Secondary / secondary special</td>\n",
       "      <td>Civil marriage</td>\n",
       "      <td>House / apartment</td>\n",
       "      <td>-15292.0</td>\n",
       "      <td>-645</td>\n",
       "      <td>1</td>\n",
       "      <td>1</td>\n",
       "      <td>1</td>\n",
       "      <td>0</td>\n",
       "      <td>Drivers</td>\n",
       "      <td>2</td>\n",
       "      <td>0</td>\n",
       "    </tr>\n",
       "  </tbody>\n",
       "</table>\n",
       "<p>470 rows × 19 columns</p>\n",
       "</div>"
      ],
      "text/plain": [
       "      Ind_ID GENDER Car_Owner Propert_Owner  CHILDREN  Annual_income  \\\n",
       "0    5008827      M         Y             Y         0       180000.0   \n",
       "1    5010864      M         Y             Y         1       450000.0   \n",
       "2    5010868      M         Y             Y         1       450000.0   \n",
       "3    5021303      M         N             N         1       472500.0   \n",
       "4    5021310      M         N             Y         0       270000.0   \n",
       "..       ...    ...       ...           ...       ...            ...   \n",
       "465  5096856      M         Y             Y         0       180000.0   \n",
       "466  5090942      M         N             N         0       225000.0   \n",
       "467  5118268      M         Y             N         1       360000.0   \n",
       "468  5115992      M         Y             Y         2       180000.0   \n",
       "469  5118219      M         Y             N         0       270000.0   \n",
       "\n",
       "              Type_Income                      EDUCATION  Marital_status  \\\n",
       "0               Pensioner               Higher education         Married   \n",
       "1    Commercial associate  Secondary / secondary special         Married   \n",
       "2               Pensioner  Secondary / secondary special         Married   \n",
       "3               Pensioner               Higher education         Married   \n",
       "4                 Working  Secondary / secondary special         Married   \n",
       "..                    ...                            ...             ...   \n",
       "465  Commercial associate  Secondary / secondary special         Married   \n",
       "466  Commercial associate  Secondary / secondary special         Married   \n",
       "467         State servant  Secondary / secondary special         Married   \n",
       "468               Working               Higher education         Married   \n",
       "469               Working  Secondary / secondary special  Civil marriage   \n",
       "\n",
       "          Housing_type  Birthday_count  Employed_days  Mobile_phone  \\\n",
       "0    House / apartment        -18772.0         365243             1   \n",
       "1    House / apartment        -18173.0           -678             1   \n",
       "2    House / apartment        -18173.0           -678             1   \n",
       "3         With parents         -8907.0           -913             1   \n",
       "4    House / apartment        -16896.0           -248             1   \n",
       "..                 ...             ...            ...           ...   \n",
       "465  House / apartment        -17975.0          -3476             1   \n",
       "466  House / apartment        -13336.0          -1436             1   \n",
       "467  House / apartment        -11294.0          -3536             1   \n",
       "468  House / apartment        -13174.0          -2477             1   \n",
       "469  House / apartment        -15292.0           -645             1   \n",
       "\n",
       "     Work_Phone  Phone  EMAIL_ID     Type_Occupation  Family_Members  label  \n",
       "0             0      0         0                None               2      1  \n",
       "1             0      1         1          Core staff               3      1  \n",
       "2             0      1         1          Core staff               3      1  \n",
       "3             0      0         1                None               3      1  \n",
       "4             0      0         0            Laborers               2      1  \n",
       "..          ...    ...       ...                 ...             ...    ...  \n",
       "465           0      0         0             Drivers               2      0  \n",
       "466           0      0         0  Low-skill Laborers               2      0  \n",
       "467           0      1         0             Drivers               3      0  \n",
       "468           0      0         0            Managers               4      0  \n",
       "469           1      1         0             Drivers               2      0  \n",
       "\n",
       "[470 rows x 19 columns]"
      ]
     },
     "execution_count": 71,
     "metadata": {},
     "output_type": "execute_result"
    }
   ],
   "source": [
    "conn.execute(\"SELECT * FROM df_sql WHERE GENDER = 'M' AND Family_Members > 1;\").fetchdf()"
   ]
  },
  {
   "cell_type": "markdown",
   "id": "6363f384",
   "metadata": {},
   "source": [
    "#### 4. Please list the top five people having the highest income ?"
   ]
  },
  {
   "cell_type": "code",
   "execution_count": 72,
   "id": "02ea47cc",
   "metadata": {},
   "outputs": [
    {
     "data": {
      "text/html": [
       "<div>\n",
       "<style scoped>\n",
       "    .dataframe tbody tr th:only-of-type {\n",
       "        vertical-align: middle;\n",
       "    }\n",
       "\n",
       "    .dataframe tbody tr th {\n",
       "        vertical-align: top;\n",
       "    }\n",
       "\n",
       "    .dataframe thead th {\n",
       "        text-align: right;\n",
       "    }\n",
       "</style>\n",
       "<table border=\"1\" class=\"dataframe\">\n",
       "  <thead>\n",
       "    <tr style=\"text-align: right;\">\n",
       "      <th></th>\n",
       "      <th>Ind_ID</th>\n",
       "      <th>GENDER</th>\n",
       "      <th>Car_Owner</th>\n",
       "      <th>Propert_Owner</th>\n",
       "      <th>CHILDREN</th>\n",
       "      <th>Annual_income</th>\n",
       "      <th>Type_Income</th>\n",
       "      <th>EDUCATION</th>\n",
       "      <th>Marital_status</th>\n",
       "      <th>Housing_type</th>\n",
       "      <th>Birthday_count</th>\n",
       "      <th>Employed_days</th>\n",
       "      <th>Mobile_phone</th>\n",
       "      <th>Work_Phone</th>\n",
       "      <th>Phone</th>\n",
       "      <th>EMAIL_ID</th>\n",
       "      <th>Type_Occupation</th>\n",
       "      <th>Family_Members</th>\n",
       "      <th>label</th>\n",
       "    </tr>\n",
       "  </thead>\n",
       "  <tbody>\n",
       "    <tr>\n",
       "      <th>0</th>\n",
       "      <td>5143231</td>\n",
       "      <td>F</td>\n",
       "      <td>Y</td>\n",
       "      <td>Y</td>\n",
       "      <td>1</td>\n",
       "      <td>1575000.0</td>\n",
       "      <td>Commercial associate</td>\n",
       "      <td>Higher education</td>\n",
       "      <td>Single / not married</td>\n",
       "      <td>House / apartment</td>\n",
       "      <td>-10142.0</td>\n",
       "      <td>-2479</td>\n",
       "      <td>1</td>\n",
       "      <td>0</td>\n",
       "      <td>0</td>\n",
       "      <td>0</td>\n",
       "      <td>Managers</td>\n",
       "      <td>2</td>\n",
       "      <td>0</td>\n",
       "    </tr>\n",
       "    <tr>\n",
       "      <th>1</th>\n",
       "      <td>5143235</td>\n",
       "      <td>F</td>\n",
       "      <td>Y</td>\n",
       "      <td>Y</td>\n",
       "      <td>1</td>\n",
       "      <td>1575000.0</td>\n",
       "      <td>Commercial associate</td>\n",
       "      <td>Higher education</td>\n",
       "      <td>Single / not married</td>\n",
       "      <td>House / apartment</td>\n",
       "      <td>-10142.0</td>\n",
       "      <td>-2479</td>\n",
       "      <td>1</td>\n",
       "      <td>0</td>\n",
       "      <td>0</td>\n",
       "      <td>0</td>\n",
       "      <td>Managers</td>\n",
       "      <td>2</td>\n",
       "      <td>0</td>\n",
       "    </tr>\n",
       "    <tr>\n",
       "      <th>2</th>\n",
       "      <td>5090470</td>\n",
       "      <td>M</td>\n",
       "      <td>N</td>\n",
       "      <td>Y</td>\n",
       "      <td>1</td>\n",
       "      <td>900000.0</td>\n",
       "      <td>Working</td>\n",
       "      <td>Secondary / secondary special</td>\n",
       "      <td>Married</td>\n",
       "      <td>House / apartment</td>\n",
       "      <td>-15380.0</td>\n",
       "      <td>-4509</td>\n",
       "      <td>1</td>\n",
       "      <td>0</td>\n",
       "      <td>0</td>\n",
       "      <td>0</td>\n",
       "      <td>Laborers</td>\n",
       "      <td>3</td>\n",
       "      <td>0</td>\n",
       "    </tr>\n",
       "    <tr>\n",
       "      <th>3</th>\n",
       "      <td>5079016</td>\n",
       "      <td>M</td>\n",
       "      <td>Y</td>\n",
       "      <td>Y</td>\n",
       "      <td>2</td>\n",
       "      <td>900000.0</td>\n",
       "      <td>Commercial associate</td>\n",
       "      <td>Higher education</td>\n",
       "      <td>Married</td>\n",
       "      <td>House / apartment</td>\n",
       "      <td>-9889.0</td>\n",
       "      <td>-1000</td>\n",
       "      <td>1</td>\n",
       "      <td>0</td>\n",
       "      <td>0</td>\n",
       "      <td>0</td>\n",
       "      <td>Managers</td>\n",
       "      <td>4</td>\n",
       "      <td>0</td>\n",
       "    </tr>\n",
       "    <tr>\n",
       "      <th>4</th>\n",
       "      <td>5079017</td>\n",
       "      <td>M</td>\n",
       "      <td>Y</td>\n",
       "      <td>Y</td>\n",
       "      <td>2</td>\n",
       "      <td>900000.0</td>\n",
       "      <td>Commercial associate</td>\n",
       "      <td>Higher education</td>\n",
       "      <td>Married</td>\n",
       "      <td>House / apartment</td>\n",
       "      <td>-9889.0</td>\n",
       "      <td>-1000</td>\n",
       "      <td>1</td>\n",
       "      <td>0</td>\n",
       "      <td>0</td>\n",
       "      <td>0</td>\n",
       "      <td>Managers</td>\n",
       "      <td>4</td>\n",
       "      <td>0</td>\n",
       "    </tr>\n",
       "  </tbody>\n",
       "</table>\n",
       "</div>"
      ],
      "text/plain": [
       "    Ind_ID GENDER Car_Owner Propert_Owner  CHILDREN  Annual_income  \\\n",
       "0  5143231      F         Y             Y         1      1575000.0   \n",
       "1  5143235      F         Y             Y         1      1575000.0   \n",
       "2  5090470      M         N             Y         1       900000.0   \n",
       "3  5079016      M         Y             Y         2       900000.0   \n",
       "4  5079017      M         Y             Y         2       900000.0   \n",
       "\n",
       "            Type_Income                      EDUCATION        Marital_status  \\\n",
       "0  Commercial associate               Higher education  Single / not married   \n",
       "1  Commercial associate               Higher education  Single / not married   \n",
       "2               Working  Secondary / secondary special               Married   \n",
       "3  Commercial associate               Higher education               Married   \n",
       "4  Commercial associate               Higher education               Married   \n",
       "\n",
       "        Housing_type  Birthday_count  Employed_days  Mobile_phone  Work_Phone  \\\n",
       "0  House / apartment        -10142.0          -2479             1           0   \n",
       "1  House / apartment        -10142.0          -2479             1           0   \n",
       "2  House / apartment        -15380.0          -4509             1           0   \n",
       "3  House / apartment         -9889.0          -1000             1           0   \n",
       "4  House / apartment         -9889.0          -1000             1           0   \n",
       "\n",
       "   Phone  EMAIL_ID Type_Occupation  Family_Members  label  \n",
       "0      0         0        Managers               2      0  \n",
       "1      0         0        Managers               2      0  \n",
       "2      0         0        Laborers               3      0  \n",
       "3      0         0        Managers               4      0  \n",
       "4      0         0        Managers               4      0  "
      ]
     },
     "execution_count": 72,
     "metadata": {},
     "output_type": "execute_result"
    }
   ],
   "source": [
    "conn.execute(\"SELECT* FROM df_sql ORDER BY Annual_income DESC LIMIT 5;\").fetchdf()"
   ]
  },
  {
   "cell_type": "markdown",
   "id": "3c2f15cc",
   "metadata": {},
   "source": [
    "#### 5. How many married people are having bad credit?"
   ]
  },
  {
   "cell_type": "code",
   "execution_count": 73,
   "id": "9392ce0b",
   "metadata": {},
   "outputs": [
    {
     "data": {
      "text/html": [
       "<div>\n",
       "<style scoped>\n",
       "    .dataframe tbody tr th:only-of-type {\n",
       "        vertical-align: middle;\n",
       "    }\n",
       "\n",
       "    .dataframe tbody tr th {\n",
       "        vertical-align: top;\n",
       "    }\n",
       "\n",
       "    .dataframe thead th {\n",
       "        text-align: right;\n",
       "    }\n",
       "</style>\n",
       "<table border=\"1\" class=\"dataframe\">\n",
       "  <thead>\n",
       "    <tr style=\"text-align: right;\">\n",
       "      <th></th>\n",
       "      <th>count_star()</th>\n",
       "    </tr>\n",
       "  </thead>\n",
       "  <tbody>\n",
       "    <tr>\n",
       "      <th>0</th>\n",
       "      <td>935</td>\n",
       "    </tr>\n",
       "  </tbody>\n",
       "</table>\n",
       "</div>"
      ],
      "text/plain": [
       "   count_star()\n",
       "0           935"
      ]
     },
     "execution_count": 73,
     "metadata": {},
     "output_type": "execute_result"
    }
   ],
   "source": [
    "conn.execute(\"SELECT COUNT(*) FROM df_sql WHERE Marital_status = 'Married' AND label = 0;\").fetchdf()"
   ]
  },
  {
   "cell_type": "markdown",
   "id": "4a2da1aa",
   "metadata": {},
   "source": [
    "#### 6. What is the highest education level and what is the total count?"
   ]
  },
  {
   "cell_type": "code",
   "execution_count": 74,
   "id": "03f27680",
   "metadata": {},
   "outputs": [
    {
     "data": {
      "text/html": [
       "<div>\n",
       "<style scoped>\n",
       "    .dataframe tbody tr th:only-of-type {\n",
       "        vertical-align: middle;\n",
       "    }\n",
       "\n",
       "    .dataframe tbody tr th {\n",
       "        vertical-align: top;\n",
       "    }\n",
       "\n",
       "    .dataframe thead th {\n",
       "        text-align: right;\n",
       "    }\n",
       "</style>\n",
       "<table border=\"1\" class=\"dataframe\">\n",
       "  <thead>\n",
       "    <tr style=\"text-align: right;\">\n",
       "      <th></th>\n",
       "      <th>HighestEducation</th>\n",
       "      <th>TotalCount</th>\n",
       "    </tr>\n",
       "  </thead>\n",
       "  <tbody>\n",
       "    <tr>\n",
       "      <th>0</th>\n",
       "      <td>Secondary / secondary special</td>\n",
       "      <td>1031</td>\n",
       "    </tr>\n",
       "  </tbody>\n",
       "</table>\n",
       "</div>"
      ],
      "text/plain": [
       "                HighestEducation  TotalCount\n",
       "0  Secondary / secondary special        1031"
      ]
     },
     "execution_count": 74,
     "metadata": {},
     "output_type": "execute_result"
    }
   ],
   "source": [
    "conn.execute(\"SELECT EDUCATION AS HighestEducation, COUNT(*) AS TotalCount FROM df_sql GROUP BY EDUCATION ORDER BY TotalCount DESC LIMIT 1;\").fetchdf()"
   ]
  },
  {
   "cell_type": "markdown",
   "id": "1e7f8d5a",
   "metadata": {},
   "source": [
    "#### 7. Between married males and females, who is having more bad credit?"
   ]
  },
  {
   "cell_type": "code",
   "execution_count": 75,
   "id": "5a6e1fee",
   "metadata": {},
   "outputs": [
    {
     "data": {
      "text/html": [
       "<div>\n",
       "<style scoped>\n",
       "    .dataframe tbody tr th:only-of-type {\n",
       "        vertical-align: middle;\n",
       "    }\n",
       "\n",
       "    .dataframe tbody tr th {\n",
       "        vertical-align: top;\n",
       "    }\n",
       "\n",
       "    .dataframe thead th {\n",
       "        text-align: right;\n",
       "    }\n",
       "</style>\n",
       "<table border=\"1\" class=\"dataframe\">\n",
       "  <thead>\n",
       "    <tr style=\"text-align: right;\">\n",
       "      <th></th>\n",
       "      <th>Marital_status</th>\n",
       "      <th>GENDER</th>\n",
       "      <th>BadCreditCount</th>\n",
       "    </tr>\n",
       "  </thead>\n",
       "  <tbody>\n",
       "    <tr>\n",
       "      <th>0</th>\n",
       "      <td>Married</td>\n",
       "      <td>None</td>\n",
       "      <td>1</td>\n",
       "    </tr>\n",
       "    <tr>\n",
       "      <th>1</th>\n",
       "      <td>Married</td>\n",
       "      <td>F</td>\n",
       "      <td>566</td>\n",
       "    </tr>\n",
       "    <tr>\n",
       "      <th>2</th>\n",
       "      <td>Married</td>\n",
       "      <td>M</td>\n",
       "      <td>368</td>\n",
       "    </tr>\n",
       "  </tbody>\n",
       "</table>\n",
       "</div>"
      ],
      "text/plain": [
       "  Marital_status GENDER  BadCreditCount\n",
       "0        Married   None               1\n",
       "1        Married      F             566\n",
       "2        Married      M             368"
      ]
     },
     "execution_count": 75,
     "metadata": {},
     "output_type": "execute_result"
    }
   ],
   "source": [
    "conn.execute(\"SELECT Marital_status, GENDER, COUNT(*) AS BadCreditCount FROM df_sql WHERE label = 0 AND Marital_status = 'Married' GROUP BY Marital_status, GENDER;\").fetchdf()"
   ]
  },
  {
   "cell_type": "markdown",
   "id": "424bc813",
   "metadata": {},
   "source": [
    "# Thankyou "
   ]
  }
 ],
 "metadata": {
  "kernelspec": {
   "display_name": "Python 3 (ipykernel)",
   "language": "python",
   "name": "python3"
  },
  "language_info": {
   "codemirror_mode": {
    "name": "ipython",
    "version": 3
   },
   "file_extension": ".py",
   "mimetype": "text/x-python",
   "name": "python",
   "nbconvert_exporter": "python",
   "pygments_lexer": "ipython3",
   "version": "3.10.9"
  }
 },
 "nbformat": 4,
 "nbformat_minor": 5
}
